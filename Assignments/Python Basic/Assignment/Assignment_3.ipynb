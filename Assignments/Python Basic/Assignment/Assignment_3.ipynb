{
 "cells": [
  {
   "cell_type": "markdown",
   "id": "8842e379",
   "metadata": {},
   "source": [
    "# Assignment_3\n",
    "###### Submitted by : Santosh Kumar"
   ]
  },
  {
   "cell_type": "code",
   "execution_count": null,
   "id": "d379b821",
   "metadata": {},
   "outputs": [],
   "source": [
    "# 1. Why are functions advantageous to have in your programs?"
   ]
  },
  {
   "cell_type": "code",
   "execution_count": null,
   "id": "a0dad616",
   "metadata": {},
   "outputs": [],
   "source": [
    "Advantages of functions in Python :-\n",
    "1. It helps to divide the large programs into small groups so that we can read the code and debug the program faster and better.\n",
    "2. Functions stop us from writing the same logic various times. We can bind the logic in one function and then call the same again and again.\n",
    "3. It encourages us to call the same method with different inputs multiple times\n",
    "\n",
    "Syntax of Function :\n",
    "    def function_name(parameters):\n",
    "        function_logic or body\n",
    "        \n",
    "        return"
   ]
  },
  {
   "cell_type": "code",
   "execution_count": null,
   "id": "4581bf8f",
   "metadata": {},
   "outputs": [],
   "source": [
    "# 2. When does the code in a function run: when it's specified or when it's called?"
   ]
  },
  {
   "cell_type": "code",
   "execution_count": null,
   "id": "eba7699e",
   "metadata": {},
   "outputs": [],
   "source": [
    "The function in a code runs only when it is called."
   ]
  },
  {
   "cell_type": "code",
   "execution_count": null,
   "id": "5a3a7b9d",
   "metadata": {},
   "outputs": [],
   "source": [
    "# 3. What statement creates a function?"
   ]
  },
  {
   "cell_type": "code",
   "execution_count": 2,
   "id": "2efa0328",
   "metadata": {},
   "outputs": [
    {
     "name": "stdout",
     "output_type": "stream",
     "text": [
      "Santosh Kumar\n"
     ]
    }
   ],
   "source": [
    "The def keyword used to define or create a function.\n",
    "\n",
    "#For eg.,\n",
    "\n",
    "def my_function(name): # defination of function\n",
    "    print(name)        # function body\n",
    "    \n",
    "my_function(\"Santosh Kumar\") # calling of function"
   ]
  },
  {
   "cell_type": "code",
   "execution_count": null,
   "id": "2465dae3",
   "metadata": {},
   "outputs": [],
   "source": [
    "# 4. What is the difference between a function and a function call?"
   ]
  },
  {
   "cell_type": "code",
   "execution_count": null,
   "id": "a74d1737",
   "metadata": {},
   "outputs": [],
   "source": [
    "Function :-\n",
    "    1. A function is a block of code that does a particular operation and returns a result. \n",
    "    2. It usually accepts inputs as parameters and returns a result. \n",
    "    3. The parameters are not mandatory.\n",
    "\n",
    "E.g:\n",
    "Function square(a):\n",
    "    return a*a\n",
    "\n",
    "A function call is a code used to pass control to a function.\n",
    "\n",
    "E.g.:\n",
    "\n",
    "b = square(5)\n",
    "\n",
    "Calling function will return the value 25."
   ]
  },
  {
   "cell_type": "code",
   "execution_count": null,
   "id": "5876fba0",
   "metadata": {},
   "outputs": [],
   "source": [
    "# 5. How many global scopes are there in a Python program? How many local scopes?"
   ]
  },
  {
   "cell_type": "code",
   "execution_count": null,
   "id": "3726685d",
   "metadata": {},
   "outputs": [],
   "source": [
    "1. There is one global scope, and a local scope is created whenever a function is called. \n",
    "2. A variable created inside a function belongs to the local scope of that function, and can only be used inside that function whereas A variable created in the main body of the Python code is a global variable and belongs to the global scope.\n",
    "\n",
    "a=4 # Global Variable\n",
    "\n",
    "def add(b):\n",
    "    return a+b  ## here, b is the local variable\n",
    "\n",
    "add(5)\n"
   ]
  },
  {
   "cell_type": "code",
   "execution_count": 1,
   "id": "f8e2bf8c",
   "metadata": {},
   "outputs": [
    {
     "data": {
      "text/plain": [
       "9"
      ]
     },
     "execution_count": 1,
     "metadata": {},
     "output_type": "execute_result"
    }
   ],
   "source": [
    "# 6. What happens to variables in a local scope when the function call returns?"
   ]
  },
  {
   "cell_type": "code",
   "execution_count": null,
   "id": "fa3416e0",
   "metadata": {},
   "outputs": [],
   "source": [
    "1. When the function call returns, the local variables in it are destroyed or forgotten. \n",
    "2. This because the local variables disappear after the function returns."
   ]
  },
  {
   "cell_type": "code",
   "execution_count": null,
   "id": "63fb3040",
   "metadata": {},
   "outputs": [],
   "source": [
    "# 7.  What is the concept of a return value? Is it possible to have a return value in an expression?"
   ]
  },
  {
   "cell_type": "code",
   "execution_count": null,
   "id": "583023f5",
   "metadata": {},
   "outputs": [],
   "source": [
    "The Python return statement is a key component of functions and methods. \n",
    "We can use the return statement to make functions send Python objects back to the caller code. \n",
    "These objects are known as the function’s return value. A return value is the value that a function call evaluates to. \n",
    "Like any value, a return value can be used as part of an expression."
   ]
  },
  {
   "cell_type": "code",
   "execution_count": null,
   "id": "1ba78db8",
   "metadata": {},
   "outputs": [],
   "source": [
    "# 8. If a function does not have a return statement, what is the return value of a call to that function?"
   ]
  },
  {
   "cell_type": "code",
   "execution_count": null,
   "id": "d28a896f",
   "metadata": {},
   "outputs": [],
   "source": [
    "If there is no return statement for a function, its return value is None. \n",
    "The function always returns None if explicit return is not written."
   ]
  },
  {
   "cell_type": "code",
   "execution_count": null,
   "id": "f0d83e30",
   "metadata": {},
   "outputs": [],
   "source": [
    "# 9. How do you make a function variable refer to the global variable?"
   ]
  },
  {
   "cell_type": "code",
   "execution_count": null,
   "id": "0f1a77e3",
   "metadata": {},
   "outputs": [],
   "source": [
    "1. A global statement will force a variable in a function to refer to the global variable. \n",
    "2. If you want to refer to a global variable in a function, you can use the global keyword to declare which variables are global."
   ]
  },
  {
   "cell_type": "code",
   "execution_count": null,
   "id": "cb954c27",
   "metadata": {},
   "outputs": [],
   "source": [
    "# 10.  What is the data type of None?"
   ]
  },
  {
   "cell_type": "code",
   "execution_count": null,
   "id": "26f5380b",
   "metadata": {},
   "outputs": [],
   "source": [
    "The data type of \"None\" is NoneType."
   ]
  },
  {
   "cell_type": "code",
   "execution_count": 15,
   "id": "05975a51",
   "metadata": {},
   "outputs": [
    {
     "data": {
      "text/plain": [
       "NoneType"
      ]
     },
     "execution_count": 15,
     "metadata": {},
     "output_type": "execute_result"
    }
   ],
   "source": [
    "type(None)"
   ]
  },
  {
   "cell_type": "code",
   "execution_count": null,
   "id": "f79768ca",
   "metadata": {},
   "outputs": [],
   "source": [
    "# 11. What does the sentence import areallyourpetsnamederic do? "
   ]
  },
  {
   "cell_type": "code",
   "execution_count": null,
   "id": "1bf94e25",
   "metadata": {},
   "outputs": [],
   "source": [
    "The sentence \"import areallyourpetsnamederic\", import the areallyourpetsnamederic module from Python Library."
   ]
  },
  {
   "cell_type": "code",
   "execution_count": null,
   "id": "075c5471",
   "metadata": {},
   "outputs": [],
   "source": [
    "# 12. If you had a bacon() feature in a spam module, what would you call it after importing spam?"
   ]
  },
  {
   "cell_type": "code",
   "execution_count": null,
   "id": "68d5c7b0",
   "metadata": {},
   "outputs": [],
   "source": [
    "The feature \"bacon()\" can be called as spam.bacon()."
   ]
  },
  {
   "cell_type": "code",
   "execution_count": null,
   "id": "e2edc610",
   "metadata": {},
   "outputs": [],
   "source": [
    "# 13. What can you do to save a programme from crashing if it encounters an error?"
   ]
  },
  {
   "cell_type": "code",
   "execution_count": null,
   "id": "e88e88cc",
   "metadata": {},
   "outputs": [],
   "source": [
    "We can place the line of code that might cause an error in a try clause and use except block to handle the error as mentioned below:"
   ]
  },
  {
   "cell_type": "code",
   "execution_count": 18,
   "id": "ebe6125a",
   "metadata": {},
   "outputs": [
    {
     "name": "stdout",
     "output_type": "stream",
     "text": [
      "Santosh Kumar\n"
     ]
    }
   ],
   "source": [
    "try:\n",
    "    print(\"Santosh Kumar\")\n",
    "except :\n",
    "    print(\"Print the Error or Exception.\")"
   ]
  },
  {
   "cell_type": "code",
   "execution_count": null,
   "id": "ef820a6a",
   "metadata": {},
   "outputs": [],
   "source": [
    "# 14. What is the purpose of the try clause? What is the purpose of the except clause?"
   ]
  },
  {
   "cell_type": "code",
   "execution_count": null,
   "id": "0fde1f07",
   "metadata": {},
   "outputs": [],
   "source": [
    "The code that could potentially cause an error goes in the try clause. The code that executes if an error happens goes in the except clause."
   ]
  },
  {
   "cell_type": "code",
   "execution_count": 2,
   "id": "2adbc9a7",
   "metadata": {},
   "outputs": [
    {
     "name": "stdout",
     "output_type": "stream",
     "text": [
      "Variable test is not defined\n"
     ]
    }
   ],
   "source": [
    "\n",
    "try:\n",
    "    print(test)\n",
    "except NameError:\n",
    "    print(\"Variable test is not defined\")\n",
    "except:\n",
    "    print(\"Something else went wrong\") "
   ]
  },
  {
   "cell_type": "code",
   "execution_count": null,
   "id": "70976112",
   "metadata": {},
   "outputs": [],
   "source": []
  },
  {
   "cell_type": "code",
   "execution_count": null,
   "id": "5ccdf4c1",
   "metadata": {},
   "outputs": [],
   "source": []
  }
 ],
 "metadata": {
  "kernelspec": {
   "display_name": "Python 3 (ipykernel)",
   "language": "python",
   "name": "python3"
  },
  "language_info": {
   "codemirror_mode": {
    "name": "ipython",
    "version": 3
   },
   "file_extension": ".py",
   "mimetype": "text/x-python",
   "name": "python",
   "nbconvert_exporter": "python",
   "pygments_lexer": "ipython3",
   "version": "3.9.7"
  }
 },
 "nbformat": 4,
 "nbformat_minor": 5
}
