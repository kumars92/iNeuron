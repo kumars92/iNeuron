{
 "cells": [
  {
   "cell_type": "markdown",
   "id": "72e3283d",
   "metadata": {},
   "source": [
    "### Question - 1"
   ]
  },
  {
   "cell_type": "markdown",
   "id": "89eb81f5",
   "metadata": {},
   "source": [
    "#### In the below elements which of them are values or an expression? eg:- values can be integer or string and expressions will be mathematical operators."
   ]
  },
  {
   "cell_type": "raw",
   "id": "f3cf4501",
   "metadata": {},
   "source": [
    "* \n",
    "'hello'\n",
    "-87.8\n",
    "- \n",
    "/ \n",
    "+\t\n",
    "6 "
   ]
  },
  {
   "cell_type": "markdown",
   "id": "bc4e6835",
   "metadata": {},
   "source": [
    "### Answer - 1"
   ]
  },
  {
   "cell_type": "raw",
   "id": "c9565d28",
   "metadata": {},
   "source": [
    "Values :- A value is one of the basic things a program works with, like a letter or a number. You can print values in Python.\n",
    "\n",
    "Expression :- An expression is something that can be reduced to a value. For example \"1+3\" is an expression. In other words, expression will be mathematical operators.  \n",
    "\n",
    "Based on the above definition, we conclude that :-\n",
    "\n",
    "a) * :- Expression\n",
    "b) 'hello' :- Value\n",
    "c) -87.8 :- Value\n",
    "d) - :- Expression\n",
    "e) / :- Expression\n",
    "f) + :- Expression\n",
    "g) 6 :- Value"
   ]
  },
  {
   "cell_type": "markdown",
   "id": "4bf81507",
   "metadata": {},
   "source": [
    "### Question - 2"
   ]
  },
  {
   "cell_type": "markdown",
   "id": "3b637d1a",
   "metadata": {},
   "source": [
    "#### What is the difference between string and variable?"
   ]
  },
  {
   "cell_type": "markdown",
   "id": "60f8b894",
   "metadata": {},
   "source": [
    "### Answer - 2"
   ]
  },
  {
   "cell_type": "raw",
   "id": "2fa947a3",
   "metadata": {},
   "source": [
    "String : String is a collection or sequence of characters within single or double quotes. For eg. \"Santosh\", 'Kumar' etc. Here Santosh and Kumar are strings.\n",
    "\n",
    "Variable : Variable is something in which we can store some data that we can use later at run time. We can imagine variable as a empty box in which we can store any data. For eg. test = 25, here test is variable in which we have stored numeric integer 25.\n",
    "\n",
    "Also,\n",
    "\n",
    "my_first_variable = \"Santosh\"\n",
    "\n",
    "With reference to above String & Variable definitions and example, we can conclude that :-\n",
    "\n",
    "\"my_first_variable\" is Variable, whereas\n",
    "\"Santosh\" is String"
   ]
  },
  {
   "cell_type": "markdown",
   "id": "02ddc661",
   "metadata": {},
   "source": [
    "### Question - 3"
   ]
  },
  {
   "cell_type": "markdown",
   "id": "64a07b17",
   "metadata": {},
   "source": [
    "#### Describe three different data types."
   ]
  },
  {
   "cell_type": "markdown",
   "id": "037e95b9",
   "metadata": {},
   "source": [
    "### Answer - 3"
   ]
  },
  {
   "cell_type": "markdown",
   "id": "78cba0b2",
   "metadata": {},
   "source": [
    "#### String"
   ]
  },
  {
   "cell_type": "raw",
   "id": "231b38f5",
   "metadata": {},
   "source": [
    "1. String is collection or sequence of characters within single or double quotes. \n",
    "2. In python there is not character data type instead a single character is also a string having length 1. \n",
    "3. Characters in a string can be accessed using square brackets by using index number of characters. \n",
    "4. Index of characters in a string in forward direction is starts from 0 to n.\n",
    "5. Index of characters in a string in backward direction is starts from -1 to -n.\n",
    "\n",
    "For Example:-\n",
    "s1('s') is a string having one character.\n",
    "\n",
    "s2('santosh') is a string having 7 characters.\n",
    "The characters in s2 can be accessed in forward as well in backward direction.\n",
    "\n",
    "Accessing characters in forward direction :-s2[0],s[1],s[2] etc.\n",
    "Accessing characters in backward direction :- s2[-1],s[-2],s[-3] etc.\n",
    "\n"
   ]
  },
  {
   "cell_type": "markdown",
   "id": "d711a634",
   "metadata": {},
   "source": [
    "#### Integer"
   ]
  },
  {
   "cell_type": "raw",
   "id": "c21cff92",
   "metadata": {},
   "source": [
    "Integer used as int, is a whole number, positive or negative without decimals of unlimited length.\n",
    "\n",
    "For eg. x = 1\n",
    "        y = 32656532356532\n",
    "        z = -326565"
   ]
  },
  {
   "cell_type": "markdown",
   "id": "8f4f73dd",
   "metadata": {},
   "source": [
    "#### List"
   ]
  },
  {
   "cell_type": "raw",
   "id": "ace28e6e",
   "metadata": {},
   "source": [
    "1. List is an ordered sequence of items.\n",
    "2. Multiple items can be stored in a single list all having different data types.\n",
    "3. List can be written in square bracket separated by comma.\n",
    "4. List items are mutable, ordered and allows duplicate values.\n",
    "5. List items can be indexed, the first item is [0], the second item is [1] and so on...\n",
    "\n",
    "For example :-\n",
    "    list1 = [1,2,3,4,5,6,5] ## Same data types\n",
    "    list2 = [1,2,3,'santosh','kumar'] ## multiple data types"
   ]
  },
  {
   "cell_type": "markdown",
   "id": "98e1c2ed",
   "metadata": {},
   "source": [
    "### Question - 4"
   ]
  },
  {
   "cell_type": "markdown",
   "id": "b01ed351",
   "metadata": {},
   "source": [
    "#### What is an expression made up of? What do all expressions do?"
   ]
  },
  {
   "cell_type": "markdown",
   "id": "cc06d229",
   "metadata": {},
   "source": [
    "### Answer - 4"
   ]
  },
  {
   "cell_type": "raw",
   "id": "35be8180",
   "metadata": {},
   "source": [
    "An expression is a combination of two numbers or variables and at least one math operation that can be reduced to a single value. This math operation can be addition, subtraction, multiplication, or division. The structure of an expression is:\n",
    "\n",
    "Expression is (Number/variable, Math Operator, Number/variable)\n",
    "\n",
    "\n",
    "Examples of Expressions:\n",
    "\n",
    "Eg.1 :- a = 5+7\n",
    "Eg.2 :- a = 5*3"
   ]
  },
  {
   "cell_type": "markdown",
   "id": "903719bf",
   "metadata": {},
   "source": [
    "### Question - 5"
   ]
  },
  {
   "cell_type": "markdown",
   "id": "c07d84dc",
   "metadata": {},
   "source": [
    "This assignment statements, like spam = 10. What is the difference between an expression and a statement?"
   ]
  },
  {
   "cell_type": "markdown",
   "id": "fd7a05be",
   "metadata": {},
   "source": [
    "### Answer - 5"
   ]
  },
  {
   "cell_type": "raw",
   "id": "0227c078",
   "metadata": {},
   "source": [
    "Expression is made up of values, containers, and mathematical operators (operands) and the statement is just like a command that a python interpreter executes like print."
   ]
  },
  {
   "cell_type": "markdown",
   "id": "aa7a7770",
   "metadata": {},
   "source": [
    "### Question - 6"
   ]
  },
  {
   "cell_type": "raw",
   "id": "a5364f15",
   "metadata": {},
   "source": [
    "After running the following code, what does the variable bacon contain?\n",
    "bacon = 22\n",
    "bacon + 1"
   ]
  },
  {
   "cell_type": "markdown",
   "id": "6b5b5836",
   "metadata": {},
   "source": [
    "### Answer - 6"
   ]
  },
  {
   "cell_type": "code",
   "execution_count": 7,
   "id": "25f5e363",
   "metadata": {},
   "outputs": [
    {
     "data": {
      "text/plain": [
       "23"
      ]
     },
     "execution_count": 7,
     "metadata": {},
     "output_type": "execute_result"
    }
   ],
   "source": [
    "bacon = 22\n",
    "bacon + 1"
   ]
  },
  {
   "cell_type": "markdown",
   "id": "35b3bfca",
   "metadata": {},
   "source": [
    "So, the output of Question No-6 is 23."
   ]
  },
  {
   "cell_type": "markdown",
   "id": "d2fdebaf",
   "metadata": {},
   "source": [
    "### Question - 7"
   ]
  },
  {
   "cell_type": "raw",
   "id": "ff9e3ed2",
   "metadata": {},
   "source": [
    "What should the values of the following two terms be?\n",
    "'spam' + 'spamspam'\n",
    "'spam' * 3"
   ]
  },
  {
   "cell_type": "markdown",
   "id": "d8789afb",
   "metadata": {},
   "source": [
    "### Answer - 7"
   ]
  },
  {
   "cell_type": "code",
   "execution_count": 11,
   "id": "ec1347b0",
   "metadata": {},
   "outputs": [
    {
     "data": {
      "text/plain": [
       "'spamspamspam'"
      ]
     },
     "execution_count": 11,
     "metadata": {},
     "output_type": "execute_result"
    }
   ],
   "source": [
    "'spam' + 'spamspam'"
   ]
  },
  {
   "cell_type": "code",
   "execution_count": 12,
   "id": "9b5e2b81",
   "metadata": {},
   "outputs": [
    {
     "data": {
      "text/plain": [
       "'spamspamspam'"
      ]
     },
     "execution_count": 12,
     "metadata": {},
     "output_type": "execute_result"
    }
   ],
   "source": [
    "'spam' * 3"
   ]
  },
  {
   "cell_type": "markdown",
   "id": "b242e212",
   "metadata": {},
   "source": [
    "So, the values of both the terms are 'spamspamspam' and 'spamspamspam'"
   ]
  },
  {
   "cell_type": "markdown",
   "id": "4a900b7a",
   "metadata": {},
   "source": [
    "### Question - 8"
   ]
  },
  {
   "cell_type": "markdown",
   "id": "fa5bad7b",
   "metadata": {},
   "source": [
    "Why is eggs a valid variable name while 100 is invalid?"
   ]
  },
  {
   "cell_type": "markdown",
   "id": "4ba100f0",
   "metadata": {},
   "source": [
    "### Answer - 8"
   ]
  },
  {
   "cell_type": "markdown",
   "id": "0c022c84",
   "metadata": {},
   "source": [
    "Rules for defining a variable are as follows :-\n",
    "    1. A variable can have alphabets, digits, and underscore.\n",
    "    2. A variable name can start with the alphabet, and underscore only. It can't start with a digit.\n",
    "    3. No whitespace is allowed within the variable name.\n",
    "    4.A variable name must not be any reserved word or keyword, e.g. print,for,if , etc..\n",
    "    \n",
    "Based on the above rules, we can conclude that 'egg' is valid varialbe name because it started with an alphabet whereas '100' is not a valid variable name as it started with a digit."
   ]
  },
  {
   "cell_type": "markdown",
   "id": "f2cdbbfa",
   "metadata": {},
   "source": [
    "### Question - 9"
   ]
  },
  {
   "cell_type": "markdown",
   "id": "5c0bf79f",
   "metadata": {},
   "source": [
    "What three functions can be used to get the integer, floating-point number, or string version of a value?"
   ]
  },
  {
   "cell_type": "markdown",
   "id": "11a223a3",
   "metadata": {},
   "source": [
    "### Answer - 9"
   ]
  },
  {
   "cell_type": "code",
   "execution_count": null,
   "id": "78ac74ef",
   "metadata": {},
   "outputs": [],
   "source": [
    "1. To get interger version of a value, we use int().\n",
    "2. To get floating-point number version of a value, we use float()\n",
    "3. To get string version of a value, we use str()"
   ]
  },
  {
   "cell_type": "markdown",
   "id": "0bc65371",
   "metadata": {},
   "source": [
    "### Question - 10"
   ]
  },
  {
   "cell_type": "raw",
   "id": "11b44682",
   "metadata": {},
   "source": [
    "Why does this expression cause an error? How can you fix it?\n",
    "'I have eaten ' + 99 + ' burritos.'"
   ]
  },
  {
   "cell_type": "markdown",
   "id": "f8679dfb",
   "metadata": {},
   "source": [
    "### Answer - 10"
   ]
  },
  {
   "cell_type": "code",
   "execution_count": 13,
   "id": "7c8ad41a",
   "metadata": {},
   "outputs": [
    {
     "ename": "TypeError",
     "evalue": "can only concatenate str (not \"int\") to str",
     "output_type": "error",
     "traceback": [
      "\u001b[1;31m---------------------------------------------------------------------------\u001b[0m",
      "\u001b[1;31mTypeError\u001b[0m                                 Traceback (most recent call last)",
      "\u001b[1;32m~\\AppData\\Local\\Temp/ipykernel_11060/1774935878.py\u001b[0m in \u001b[0;36m<module>\u001b[1;34m\u001b[0m\n\u001b[1;32m----> 1\u001b[1;33m \u001b[1;34m'I have eaten '\u001b[0m \u001b[1;33m+\u001b[0m \u001b[1;36m99\u001b[0m \u001b[1;33m+\u001b[0m \u001b[1;34m' burritos.'\u001b[0m\u001b[1;33m\u001b[0m\u001b[1;33m\u001b[0m\u001b[0m\n\u001b[0m",
      "\u001b[1;31mTypeError\u001b[0m: can only concatenate str (not \"int\") to str"
     ]
    }
   ],
   "source": [
    "'I have eaten ' + 99 + ' burritos.'"
   ]
  },
  {
   "cell_type": "markdown",
   "id": "71eb2c85",
   "metadata": {},
   "source": [
    "Strings can only be concatnated to strings. strings cannot be concatenated to integer. To fix this code, we have to make integer(99) to string or do string typecasting of integer 99."
   ]
  },
  {
   "cell_type": "code",
   "execution_count": 16,
   "id": "431ea4a8",
   "metadata": {},
   "outputs": [
    {
     "data": {
      "text/plain": [
       "'I have eaten 99 burritos.'"
      ]
     },
     "execution_count": 16,
     "metadata": {},
     "output_type": "execute_result"
    }
   ],
   "source": [
    "'I have eaten ' + '99 ' + 'burritos.'"
   ]
  },
  {
   "cell_type": "code",
   "execution_count": null,
   "id": "23548aa1",
   "metadata": {},
   "outputs": [],
   "source": []
  }
 ],
 "metadata": {
  "kernelspec": {
   "display_name": "Python 3 (ipykernel)",
   "language": "python",
   "name": "python3"
  },
  "language_info": {
   "codemirror_mode": {
    "name": "ipython",
    "version": 3
   },
   "file_extension": ".py",
   "mimetype": "text/x-python",
   "name": "python",
   "nbconvert_exporter": "python",
   "pygments_lexer": "ipython3",
   "version": "3.9.7"
  }
 },
 "nbformat": 4,
 "nbformat_minor": 5
}
