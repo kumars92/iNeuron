{
 "cells": [
  {
   "cell_type": "markdown",
   "id": "afcbc868",
   "metadata": {},
   "source": [
    "# Assignment_2\n",
    "###### Submitted by : Santosh Kuamr"
   ]
  },
  {
   "cell_type": "raw",
   "id": "f22aac82",
   "metadata": {},
   "source": [
    "1. What are the two values of the Boolean data type? How do you write them?\n",
    "2. What are the three different types of Boolean operators?\n",
    "3. Make a list of each Boolean operator's truth tables (i.e. every possible combination of Boolean values for the operator    and what it evaluate ).\n",
    "4. What are the values of the following expressions?\n",
    "   (5 > 4) and (3 == 5)\n",
    "   not (5 > 4)\n",
    "   (5 > 4) or (3 == 5)\n",
    "   not ((5 > 4) or (3 == 5))\n",
    "   (True and True) and (True == False)\n",
    "   (not False) or (not True)\n",
    "5. What are the six comparison operators?\n",
    "6. How do you tell the difference between the equal to and assignment operators?Describe a condition and when you would use    one.\n",
    "7. Identify the three blocks in this code:\n",
    "   spam = 0\n",
    "   if spam == 10:\n",
    "       print('eggs')\n",
    "       if spam > 5:\n",
    "           print('bacon')\n",
    "       else:\n",
    "           print('ham')\n",
    "       print('spam')\n",
    "   print('spam')\n",
    "8. Write code that prints Hello if 1 is stored in spam, prints Howdy if    2 is stored in spam, and prints Greetings! if anything else is stored    in spam.\n",
    "9. If your programme is stuck in an endless loop, what keys you’ll          press?\n",
    "10. How can you tell the difference between break and continue?\n",
    "11. In a for loop, what is the difference between range(10), range(0,       10), and range(0, 10, 1)?\n",
    "12. Write a short program that prints the numbers 1 to 10 using a for       loop. Then write an equivalent program that prints the numbers 1 to     10 using a while loop.\n",
    "13. If you had a function named bacon() inside a module named spam, how     would you call it after importing spam?"
   ]
  },
  {
   "cell_type": "code",
   "execution_count": null,
   "id": "638d6be7",
   "metadata": {},
   "outputs": [],
   "source": [
    "# 1 : What are the two values of the Boolean data type? How do you write them?"
   ]
  },
  {
   "cell_type": "raw",
   "id": "2893dac7",
   "metadata": {},
   "source": [
    "There are two values of Boolean data type true & false and we can write them as True and False."
   ]
  },
  {
   "cell_type": "code",
   "execution_count": 1,
   "id": "cee3845c",
   "metadata": {},
   "outputs": [],
   "source": [
    "# 2 : What are the three different types of Boolean operators?"
   ]
  },
  {
   "cell_type": "raw",
   "id": "efe74d37",
   "metadata": {},
   "source": [
    "There are three Boolean Operators in python: - \n",
    "    1 : AND operator :- This condition is only satisfied when both conditions are true.\n",
    "    2 : OR operator :- This condition is only satisfied when anyone condition is true.\n",
    "    3 : NOT operator :- This condition reverses the result of the boolean expression."
   ]
  },
  {
   "cell_type": "code",
   "execution_count": 2,
   "id": "0b39cc6b",
   "metadata": {},
   "outputs": [],
   "source": [
    "# 3 :  Make a list of each Boolean operator's truth tables (i.e. every possible combination of Boolean values for the operator and what it evaluate )."
   ]
  },
  {
   "cell_type": "code",
   "execution_count": null,
   "id": "05b82543",
   "metadata": {},
   "outputs": [],
   "source": [
    "Truth Table for AND Operator : -\n",
    "    True and True = True\n",
    "    True and False = False\n",
    "    False and True = False\n",
    "    False and False = False\n",
    "    \n",
    "Truth Table for OR Operator :-\n",
    "    True or True = True\n",
    "    True or False = True\n",
    "    False or True = True\n",
    "    False or False = False\n",
    "    \n",
    "Truth Table for NOT Operator :-\n",
    "    not(True) = False\n",
    "    not(False) = True"
   ]
  },
  {
   "cell_type": "code",
   "execution_count": 4,
   "id": "8eef7c97",
   "metadata": {},
   "outputs": [],
   "source": [
    "# 4 : What are the values of the following expressions?"
   ]
  },
  {
   "cell_type": "raw",
   "id": "98591562",
   "metadata": {},
   "source": [
    "(5 > 4) and (3 == 5)    --> False\n",
    "not (5 > 4)    --> False\n",
    "(5 > 4) or (3 == 5)   --> True\n",
    "not ((5 > 4) or (3 == 5))   --> False\n",
    "(True and True) and (True == False) --> False\n",
    "(not False) or (not True)   --> True"
   ]
  },
  {
   "cell_type": "code",
   "execution_count": 8,
   "id": "ee9b4107",
   "metadata": {},
   "outputs": [
    {
     "data": {
      "text/plain": [
       "False"
      ]
     },
     "execution_count": 8,
     "metadata": {},
     "output_type": "execute_result"
    }
   ],
   "source": [
    "(5 > 4) and (3 == 5)"
   ]
  },
  {
   "cell_type": "code",
   "execution_count": 9,
   "id": "394e92de",
   "metadata": {},
   "outputs": [
    {
     "data": {
      "text/plain": [
       "False"
      ]
     },
     "execution_count": 9,
     "metadata": {},
     "output_type": "execute_result"
    }
   ],
   "source": [
    "not (5 > 4)"
   ]
  },
  {
   "cell_type": "code",
   "execution_count": 10,
   "id": "9679e549",
   "metadata": {},
   "outputs": [
    {
     "data": {
      "text/plain": [
       "True"
      ]
     },
     "execution_count": 10,
     "metadata": {},
     "output_type": "execute_result"
    }
   ],
   "source": [
    "(5 > 4) or (3 == 5)"
   ]
  },
  {
   "cell_type": "code",
   "execution_count": 11,
   "id": "a30ea562",
   "metadata": {},
   "outputs": [
    {
     "data": {
      "text/plain": [
       "False"
      ]
     },
     "execution_count": 11,
     "metadata": {},
     "output_type": "execute_result"
    }
   ],
   "source": [
    "not ((5 > 4) or (3 == 5))"
   ]
  },
  {
   "cell_type": "code",
   "execution_count": 12,
   "id": "9eabff30",
   "metadata": {},
   "outputs": [
    {
     "data": {
      "text/plain": [
       "False"
      ]
     },
     "execution_count": 12,
     "metadata": {},
     "output_type": "execute_result"
    }
   ],
   "source": [
    "(True and True) and (True == False)"
   ]
  },
  {
   "cell_type": "code",
   "execution_count": 13,
   "id": "177dad36",
   "metadata": {},
   "outputs": [
    {
     "data": {
      "text/plain": [
       "True"
      ]
     },
     "execution_count": 13,
     "metadata": {},
     "output_type": "execute_result"
    }
   ],
   "source": [
    "(not False) or (not True)"
   ]
  },
  {
   "cell_type": "code",
   "execution_count": null,
   "id": "d552242f",
   "metadata": {},
   "outputs": [],
   "source": [
    "# 5 : What are the six comparison operators?"
   ]
  },
  {
   "cell_type": "raw",
   "id": "8c425dcf",
   "metadata": {},
   "source": [
    "Six comparison operators are as follows:-\n",
    "\n",
    "1. Equal To Operator (\"==\").\n",
    "2. Not Equal To Operator (\"!=\").\n",
    "3. Greater Than Operator (\">\").\n",
    "4. Less Than Operator (\"<\").\n",
    "5. Greater Than Equal To Operator (\">=\").\n",
    "6. Less Than Equal To Operator (\"<=\")."
   ]
  },
  {
   "cell_type": "code",
   "execution_count": null,
   "id": "c3a78b61",
   "metadata": {},
   "outputs": [],
   "source": [
    "# 6 : How do you tell the difference between the equal to and assignment operators?Describe a condition and when you would use one."
   ]
  },
  {
   "cell_type": "code",
   "execution_count": 15,
   "id": "70c431e3",
   "metadata": {},
   "outputs": [
    {
     "data": {
      "text/plain": [
       "True"
      ]
     },
     "execution_count": 15,
     "metadata": {},
     "output_type": "execute_result"
    }
   ],
   "source": [
    "The equal to operator ('==') is used to check whether the two given operands are equal or not. Given true if equal otherwise false.\n",
    "    For eg. (4==5) gives False and (10==10) gives True.\n",
    "\n",
    "The assignment operator('=') is used to assing any value to the variable.\n",
    "    For eg. tip_value = 52, Here, 52 is assigned to the variable tip_value.\n",
    "    \n",
    "We use equal to operator (==) when we have to match or compare any two values or operand.\n",
    "And we use assignment operator (=) for the assignemet of values to any variable."
   ]
  },
  {
   "cell_type": "code",
   "execution_count": 4,
   "id": "89b9e878",
   "metadata": {},
   "outputs": [
    {
     "name": "stdout",
     "output_type": "stream",
     "text": [
      "bacon\n"
     ]
    }
   ],
   "source": [
    "# 7 :Identify the three blocks in this code:\n",
    "spam = 0\n",
    "if spam == 10:    ### Block 1\n",
    "    print('eggs')\n",
    "if spam > 5:      ### Block 2\n",
    "    print('bacon')\n",
    "else:             ### Block 3\n",
    "    print('ham')\n",
    "    print('spam')\n",
    "    print('spam')"
   ]
  },
  {
   "cell_type": "code",
   "execution_count": null,
   "id": "e99eaf8a",
   "metadata": {},
   "outputs": [],
   "source": [
    "# 8 : Write code that prints Hello if 1 is stored in spam, prints Howdy if 2 is stored in spam, and prints Greetings! if anything else is stored in spam."
   ]
  },
  {
   "cell_type": "code",
   "execution_count": 8,
   "id": "5fc95960",
   "metadata": {},
   "outputs": [
    {
     "name": "stdout",
     "output_type": "stream",
     "text": [
      "Enter value of Spam : 78\n",
      "Greetings!!!\n"
     ]
    }
   ],
   "source": [
    "spam_value = int(input('Enter value of Spam : '))\n",
    "\n",
    "if spam_value == 1 :\n",
    "    print(\"Hello\")\n",
    "elif spam_value == 2 :\n",
    "    print(\"Howdy\")\n",
    "else :\n",
    "    print(\"Greetings!!!\")"
   ]
  },
  {
   "cell_type": "code",
   "execution_count": null,
   "id": "abf1975d",
   "metadata": {},
   "outputs": [],
   "source": [
    "# 9 :If your programme is stuck in an endless loop, what keys you’ll press?"
   ]
  },
  {
   "cell_type": "code",
   "execution_count": null,
   "id": "2d3ec1c7",
   "metadata": {},
   "outputs": [],
   "source": [
    "#In Jupyter Notebook, if programme is stuck in an endless loop, restart the kernel. In code editors like VS code press 'CTRL+C'."
   ]
  },
  {
   "cell_type": "code",
   "execution_count": null,
   "id": "a0aafe9b",
   "metadata": {},
   "outputs": [],
   "source": [
    "# 10 : How can you tell the difference between break and continue?"
   ]
  },
  {
   "cell_type": "code",
   "execution_count": null,
   "id": "a4541aaf",
   "metadata": {},
   "outputs": [],
   "source": [
    "The main difference between both the statements is that when break keyword comes, it terminates the execution of the \n",
    "current loop and passes the control over the next loop or main body, whereas when continue keyword is encountered, \n",
    "it skips the current iteration and executes the very next iteration in the loop"
   ]
  },
  {
   "cell_type": "code",
   "execution_count": 23,
   "id": "f2e9f124",
   "metadata": {},
   "outputs": [
    {
     "name": "stdout",
     "output_type": "stream",
     "text": [
      "0\n",
      "1\n",
      "2\n",
      "3\n",
      "4\n",
      "Program break...\n",
      "Program continued...\n",
      "0\n",
      "1\n",
      "2\n",
      "3\n",
      "4\n",
      "5\n",
      "6\n",
      "8\n",
      "9\n",
      "10\n",
      "11\n",
      "12\n",
      "13\n",
      "14\n"
     ]
    }
   ],
   "source": [
    "#For eg.\n",
    "# use of break\n",
    "for i in range(15):\n",
    "    if(i==5):\n",
    "        break\n",
    "    print(i)\n",
    "print('Program break...')\n",
    "    \n",
    "print('Program continued...')\n",
    "for j in range(15):\n",
    "    if(j==7):\n",
    "        continue\n",
    "    print(j)"
   ]
  },
  {
   "cell_type": "code",
   "execution_count": null,
   "id": "5059908e",
   "metadata": {},
   "outputs": [],
   "source": [
    "# 11 : In a for loop, what is the difference between range(10), range(0,10), and range(0, 10, 1)?"
   ]
  },
  {
   "cell_type": "code",
   "execution_count": null,
   "id": "92e7b023",
   "metadata": {},
   "outputs": [],
   "source": [
    "range(10) :- call values ranging from 0 to 9. Here, we defined just upper limit where upper limit is not included while calling.\n",
    "range(0,10) :-  call values ranging from 0 to 9. Here, we defined lower limit and upper limit where upper limit is not included while calling.\n",
    "range(0,10,1) :-  call values ranging from 0 to 9 with step size 1. Here, we defined lower limit, upper limit and step size of 1 where upper limit is not included while calling.\n",
    "  \n",
    "for example :- "
   ]
  },
  {
   "cell_type": "code",
   "execution_count": 29,
   "id": "dc8b29b1",
   "metadata": {},
   "outputs": [
    {
     "name": "stdout",
     "output_type": "stream",
     "text": [
      "0\n",
      "1\n",
      "2\n",
      "3\n",
      "4\n",
      "5\n",
      "6\n",
      "7\n",
      "8\n",
      "9\n",
      "xxxxxxxxxxxxxxxxxxxxxxxxxxxxxxxxxxxxxxxxx\n",
      "0\n",
      "1\n",
      "2\n",
      "3\n",
      "4\n",
      "5\n",
      "6\n",
      "7\n",
      "8\n",
      "9\n",
      "xxxxxxxxxxxxxxxxxxxxxxxxxxxxxxxxxxxxxxxxx\n",
      "0\n",
      "1\n",
      "2\n",
      "3\n",
      "4\n",
      "5\n",
      "6\n",
      "7\n",
      "8\n",
      "9\n"
     ]
    }
   ],
   "source": [
    "for i in range(10) : \n",
    "    print(i)\n",
    "print('xxxxxxxxxxxxxxxxxxxxxxxxxxxxxxxxxxxxxxxxx')\n",
    "for i in range(0,10) :\n",
    "    print(i)\n",
    "print(\"xxxxxxxxxxxxxxxxxxxxxxxxxxxxxxxxxxxxxxxxx\")\n",
    "for i in range(0,10,1) :\n",
    "    print(i)"
   ]
  },
  {
   "cell_type": "code",
   "execution_count": null,
   "id": "bed025b7",
   "metadata": {},
   "outputs": [],
   "source": [
    "# 12 : Write a short program that prints the numbers 1 to 10 using a for loop. Then write an equivalent program that prints the numbers 1 to 10 using a while loop."
   ]
  },
  {
   "cell_type": "code",
   "execution_count": 3,
   "id": "9ac6ad0e",
   "metadata": {},
   "outputs": [
    {
     "name": "stdout",
     "output_type": "stream",
     "text": [
      "0\n",
      "1\n",
      "2\n",
      "3\n",
      "4\n",
      "5\n",
      "6\n",
      "7\n",
      "8\n",
      "9\n",
      "10\n"
     ]
    }
   ],
   "source": [
    "for i in range(0,11) :\n",
    "    print(i)"
   ]
  },
  {
   "cell_type": "code",
   "execution_count": 2,
   "id": "d74bb5f7",
   "metadata": {},
   "outputs": [
    {
     "name": "stdout",
     "output_type": "stream",
     "text": [
      "1\n",
      "2\n",
      "3\n",
      "4\n",
      "5\n",
      "6\n",
      "7\n",
      "8\n",
      "9\n",
      "10\n"
     ]
    }
   ],
   "source": [
    "i = 1\n",
    "while i <11 :\n",
    "    print(i)\n",
    "    i=i+1"
   ]
  },
  {
   "cell_type": "code",
   "execution_count": null,
   "id": "a802d342",
   "metadata": {},
   "outputs": [],
   "source": [
    "# 13 : If you had a function named bacon() inside a module named spam, how would you call it after importing spam?"
   ]
  },
  {
   "cell_type": "code",
   "execution_count": null,
   "id": "5ce38abd",
   "metadata": {},
   "outputs": [],
   "source": [
    "# The function bacon() inside module spam can be called as \"spam.bacon()\"."
   ]
  }
 ],
 "metadata": {
  "kernelspec": {
   "display_name": "Python 3 (ipykernel)",
   "language": "python",
   "name": "python3"
  },
  "language_info": {
   "codemirror_mode": {
    "name": "ipython",
    "version": 3
   },
   "file_extension": ".py",
   "mimetype": "text/x-python",
   "name": "python",
   "nbconvert_exporter": "python",
   "pygments_lexer": "ipython3",
   "version": "3.9.7"
  }
 },
 "nbformat": 4,
 "nbformat_minor": 5
}
