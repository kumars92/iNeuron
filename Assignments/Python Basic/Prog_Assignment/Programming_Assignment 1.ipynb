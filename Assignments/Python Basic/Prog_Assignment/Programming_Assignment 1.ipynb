{
 "cells": [
  {
   "cell_type": "markdown",
   "id": "866f352e",
   "metadata": {},
   "source": [
    "# Programming_Assignment 1\n",
    "###### Submitted by :- Santosh Kumar"
   ]
  },
  {
   "cell_type": "markdown",
   "id": "4731195f",
   "metadata": {},
   "source": [
    "1. Write a python programm to print \"Hello Python\"?"
   ]
  },
  {
   "cell_type": "code",
   "execution_count": 23,
   "id": "85a6515f",
   "metadata": {},
   "outputs": [
    {
     "name": "stdout",
     "output_type": "stream",
     "text": [
      "Hello Python\n"
     ]
    }
   ],
   "source": [
    "print(\"Hello Python\")  # printing Hello Python"
   ]
  },
  {
   "cell_type": "markdown",
   "id": "373d85bb",
   "metadata": {},
   "source": [
    "2.\tWrite a Python program to do arithmetical operations addition and division.?"
   ]
  },
  {
   "cell_type": "code",
   "execution_count": 25,
   "id": "71296dc2",
   "metadata": {},
   "outputs": [
    {
     "name": "stdout",
     "output_type": "stream",
     "text": [
      "Enter first number : 50\n",
      "Enter second number : 10\n",
      "Addition of two numbers -  60\n",
      "Division of two numbers -  5.0\n"
     ]
    }
   ],
   "source": [
    "num1 = int(input(\"Enter first number : \")) # input number 1\n",
    "num2 = int(input(\"Enter second number : \")) # input number 2\n",
    "\n",
    "add = num1 + num2 # addition of two number\n",
    "div = num1 / num2 # division if num1 from num2\n",
    "\n",
    "print(\"Addition of two numbers - \",add) # printing addition of two number\n",
    "print(\"Division of two numbers - \",div) # printing division of two number"
   ]
  },
  {
   "cell_type": "markdown",
   "id": "bcb86d6c",
   "metadata": {},
   "source": [
    "3.\tWrite a Python program to find the area of a triangle?"
   ]
  },
  {
   "cell_type": "code",
   "execution_count": 26,
   "id": "48de0fcf",
   "metadata": {},
   "outputs": [
    {
     "name": "stdout",
     "output_type": "stream",
     "text": [
      "Enter length of the triangle : 10\n",
      "Enter breadth of the traingle : 20\n",
      "The area of triangle is :  100.0\n"
     ]
    }
   ],
   "source": [
    "len = int(input(\"Enter length of the triangle : \")) # Entering length of triangle\n",
    "brd = int(input(\"Enter breadth of the traingle : \")) # Entering breadth of triangle\n",
    "area =0.5*len*brd # Calculating area of triangle\n",
    " \n",
    "print(\"The area of triangle is : \",area) # printing the area of triangle\n"
   ]
  },
  {
   "cell_type": "markdown",
   "id": "8b1c1df5",
   "metadata": {},
   "source": [
    "4.\tWrite a Python program to swap two variables?"
   ]
  },
  {
   "cell_type": "code",
   "execution_count": 27,
   "id": "a394352d",
   "metadata": {},
   "outputs": [
    {
     "name": "stdout",
     "output_type": "stream",
     "text": [
      "Enter first variable : santosh\n",
      "Enter second variable : kumar\n",
      "Values before swap:  santosh kumar\n",
      "Values after swap : kumar santosh\n"
     ]
    }
   ],
   "source": [
    "var_1 = input(\"Enter first variable : \") # entering variable 1\n",
    "var_2 = input(\"Enter second variable : \") # entering variable 2\n",
    "\n",
    "print(\"Values before swap: \",var_1 ,var_2) # printing values before swap\n",
    "\n",
    "var_1,var_2=var_2,var_1 # swapping variable 1  and variable 2\n",
    "\n",
    "print(\"Values after swap :\", var_1 , var_2) # printing values after swap"
   ]
  },
  {
   "cell_type": "markdown",
   "id": "f320bda5",
   "metadata": {},
   "source": [
    "5.\tWrite a Python program to generate a random number?"
   ]
  },
  {
   "cell_type": "code",
   "execution_count": 1,
   "id": "36fae930",
   "metadata": {},
   "outputs": [
    {
     "name": "stdout",
     "output_type": "stream",
     "text": [
      "22\n"
     ]
    }
   ],
   "source": [
    "import random # importing random variable\n",
    "\n",
    "ran_num = random.randint(0,50) # giving range to generate random number\n",
    "print(ran_num) # printing the generated random number"
   ]
  },
  {
   "cell_type": "code",
   "execution_count": null,
   "id": "b3bda4cf",
   "metadata": {},
   "outputs": [],
   "source": []
  }
 ],
 "metadata": {
  "kernelspec": {
   "display_name": "Python 3 (ipykernel)",
   "language": "python",
   "name": "python3"
  },
  "language_info": {
   "codemirror_mode": {
    "name": "ipython",
    "version": 3
   },
   "file_extension": ".py",
   "mimetype": "text/x-python",
   "name": "python",
   "nbconvert_exporter": "python",
   "pygments_lexer": "ipython3",
   "version": "3.9.7"
  }
 },
 "nbformat": 4,
 "nbformat_minor": 5
}
