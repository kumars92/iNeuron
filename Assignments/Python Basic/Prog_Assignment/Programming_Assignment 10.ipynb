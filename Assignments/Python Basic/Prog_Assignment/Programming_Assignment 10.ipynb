{
 "cells": [
  {
   "cell_type": "markdown",
   "id": "ee4532d1",
   "metadata": {},
   "source": [
    "# Programming_Assignment 10\n",
    "###### Submitted By : Santosh Kumar"
   ]
  },
  {
   "cell_type": "raw",
   "id": "110516d4",
   "metadata": {},
   "source": [
    "\"\"\"# Questions\n",
    "1. Write a Python program to find sum of elements in list?\n",
    "2. Write a Python program to  Multiply all numbers in the list?\n",
    "3. Write a Python program to find smallest number in a list?\n",
    "4. Write a Python program to find largest number in a list?\n",
    "5. Write a Python program to find second largest number in a list?\n",
    "6. Write a Python program to find N largest elements from a list?\n",
    "7. Write a Python program to print even numbers in a list?\n",
    "8. Write a Python program to print odd numbers in a List?\n",
    "9. Write a Python program to Remove empty List from List?\n",
    "10. Write a Python program to Cloning or Copying a list?\n",
    "11. Write a Python program to Count occurrences of an element in a list?\n",
    "\"\"\""
   ]
  },
  {
   "cell_type": "code",
   "execution_count": 2,
   "id": "9ab262d8",
   "metadata": {},
   "outputs": [],
   "source": [
    "# 1. Write a Python program to find sum of elements in list?"
   ]
  },
  {
   "cell_type": "code",
   "execution_count": 1,
   "id": "a19e69d5",
   "metadata": {},
   "outputs": [
    {
     "name": "stdout",
     "output_type": "stream",
     "text": [
      "10\n"
     ]
    }
   ],
   "source": [
    "l = [1,2,3,4]\n",
    "list_sum=0\n",
    "for i in range(0,len(l)):\n",
    "    list_sum+=l[i]\n",
    "print(list_sum)\n",
    "    "
   ]
  },
  {
   "cell_type": "code",
   "execution_count": 2,
   "id": "bdf060d4",
   "metadata": {},
   "outputs": [],
   "source": [
    "# 2. Write a Python program to  Multiply all numbers in the list?"
   ]
  },
  {
   "cell_type": "code",
   "execution_count": 3,
   "id": "d13f7a71",
   "metadata": {},
   "outputs": [
    {
     "name": "stdout",
     "output_type": "stream",
     "text": [
      "120\n"
     ]
    }
   ],
   "source": [
    "l = [1,2,3,4,5]\n",
    "list_sum=1\n",
    "for i in range(0,len(l)):\n",
    "    list_sum*=l[i]\n",
    "print(list_sum)"
   ]
  },
  {
   "cell_type": "code",
   "execution_count": 4,
   "id": "95737fbf",
   "metadata": {},
   "outputs": [],
   "source": [
    "# 3. Write a Python program to find smallest number in a list?"
   ]
  },
  {
   "cell_type": "code",
   "execution_count": 2,
   "id": "b44fe41c",
   "metadata": {},
   "outputs": [
    {
     "name": "stdout",
     "output_type": "stream",
     "text": [
      "Smallest number is :  -25\n"
     ]
    }
   ],
   "source": [
    "l = [5,4,3,2,1,0.5,2,3,4,5,-5,-25]\n",
    "min1 = l[0]\n",
    "for i in range(0,len(l)):    \n",
    "    if l[i] < min1:\n",
    "         min1=l[i]\n",
    "print(\"Smallest number is : \",min1)"
   ]
  },
  {
   "cell_type": "code",
   "execution_count": 6,
   "id": "01f22f68",
   "metadata": {},
   "outputs": [],
   "source": [
    "# 4. Write a Python program to find largest number in a list?"
   ]
  },
  {
   "cell_type": "code",
   "execution_count": 7,
   "id": "02f49358",
   "metadata": {},
   "outputs": [
    {
     "name": "stdout",
     "output_type": "stream",
     "text": [
      "Highest number is :  985\n"
     ]
    }
   ],
   "source": [
    "l = [5,4,3,2,1,0.5,85,2,301,4,5,-5,985]\n",
    "max1 = l[0]\n",
    "for i in range(0,len(l)):    \n",
    "    if l[i] > max1:\n",
    "         max1=l[i]\n",
    "print(\"Highest number is : \",max1)"
   ]
  },
  {
   "cell_type": "code",
   "execution_count": 8,
   "id": "b0ba8d1b",
   "metadata": {},
   "outputs": [],
   "source": [
    "# 5. Write a Python program to find second largest number in a list?"
   ]
  },
  {
   "cell_type": "code",
   "execution_count": 11,
   "id": "52f6e88e",
   "metadata": {},
   "outputs": [
    {
     "name": "stdout",
     "output_type": "stream",
     "text": [
      "Enter Number : 2\n",
      "2nd hinghest number is : 85\n"
     ]
    }
   ],
   "source": [
    "l = [50,40,30,20,10,85,225,31,45,55]\n",
    "\n",
    "n = int(input(\"Enter Number : \"))\n",
    "\n",
    "def n_value ():\n",
    "    if (n == 1):\n",
    "        return 'st'\n",
    "    elif (n == 2):\n",
    "        return 'nd'\n",
    "    elif (n == 3):\n",
    "        return 'rd'\n",
    "    else:\n",
    "        return 'th'\n",
    "\n",
    "for i in range (0,n):\n",
    "    max1 = l[0]\n",
    "    for i in range(0,len(l)):    \n",
    "        if l[i] > max1:\n",
    "            max1=l[i]\n",
    "    l.remove(max1)\n",
    "    \n",
    "n1=n_value()\n",
    "print(n,\"{} hinghest number is : \".format(n1),max1,sep=\"\")"
   ]
  },
  {
   "cell_type": "code",
   "execution_count": 10,
   "id": "9d7c9084",
   "metadata": {},
   "outputs": [],
   "source": [
    "# : 6. Write a Python program to find N largest elements from a list?"
   ]
  },
  {
   "cell_type": "code",
   "execution_count": 12,
   "id": "6009d1bf",
   "metadata": {},
   "outputs": [
    {
     "name": "stdout",
     "output_type": "stream",
     "text": [
      "Enter Number : 3\n",
      "List of 3 highest numbers  :  [225, 85, 55]\n"
     ]
    }
   ],
   "source": [
    "l = [50,40,30,20,10,85,225,31,45,55]\n",
    "l1=[]\n",
    "n = int(input(\"Enter Number : \"))\n",
    "for i in range (0,n):\n",
    "    max1 = l[0]\n",
    "    for i in range(0,len(l)):    \n",
    "        if l[i] > max1:\n",
    "            max1=l[i]\n",
    "    l1.append(max1)\n",
    "    l.remove(max1)\n",
    "    \n",
    "print(\"List of {} highest numbers  : \".format(n),l1)"
   ]
  },
  {
   "cell_type": "code",
   "execution_count": 56,
   "id": "2ac7c2bf",
   "metadata": {},
   "outputs": [],
   "source": [
    "# 7 . Write a Python program to print even numbers in a list?"
   ]
  },
  {
   "cell_type": "code",
   "execution_count": 13,
   "id": "b1aaf408",
   "metadata": {},
   "outputs": [
    {
     "name": "stdout",
     "output_type": "stream",
     "text": [
      "List of Even numbers  : [54, 40, 30, 26, 14, -6]\n"
     ]
    }
   ],
   "source": [
    "l = [54,40,30,26,14,85,225,31,45,55,-6,-3]\n",
    "l1=[]\n",
    "try :\n",
    "    for i in range(0,len(l)):    \n",
    "        if l[i]%2 == 0:\n",
    "            l1.append(l[i])\n",
    "    if l1 == [] :\n",
    "        raise Exception (\"Not found\")  \n",
    "    \n",
    "    print(\"List of Even numbers  :\",l1)\n",
    "except Exception as e :\n",
    "    print(e)"
   ]
  },
  {
   "cell_type": "code",
   "execution_count": 14,
   "id": "3c321575",
   "metadata": {},
   "outputs": [],
   "source": [
    "# 8. Write a Python program to print odd numbers in a List?"
   ]
  },
  {
   "cell_type": "code",
   "execution_count": 15,
   "id": "534860e4",
   "metadata": {},
   "outputs": [
    {
     "name": "stdout",
     "output_type": "stream",
     "text": [
      "List of Even numbers  : [85, 225, 31, 45, 55, -3]\n"
     ]
    }
   ],
   "source": [
    "l = [54,40,30,26,14,85,225,31,45,55,-6,-3]\n",
    "l1=[]\n",
    "try :\n",
    "    for i in range(0,len(l)):    \n",
    "        if l[i]%2 != 0:\n",
    "            l1.append(l[i])\n",
    "    if l1 == [] :\n",
    "        raise Exception (\"Not found\")\n",
    "        \n",
    "    print(\"List of Even numbers  :\",l1)\n",
    "except Exception as e :\n",
    "    print(e)"
   ]
  },
  {
   "cell_type": "code",
   "execution_count": 16,
   "id": "9cbc0cd4",
   "metadata": {},
   "outputs": [],
   "source": [
    "# 9 Write a Python program to Remove empty List from List?"
   ]
  },
  {
   "cell_type": "code",
   "execution_count": 17,
   "id": "6e71ed46",
   "metadata": {},
   "outputs": [
    {
     "name": "stdout",
     "output_type": "stream",
     "text": [
      "[54, 40, 30, 26, 14, 85, 225, 31, 45, 55, -6, -3]\n"
     ]
    }
   ],
   "source": [
    "l = [54,40,30,26,14,[],85,225,31,45,55,-6,-3,[]]\n",
    "\n",
    "for i in range(0,len(l)-1):    \n",
    "    if l[i] == []:\n",
    "         l.remove(l[i])\n",
    "print(l)"
   ]
  },
  {
   "cell_type": "code",
   "execution_count": 18,
   "id": "161288fc",
   "metadata": {},
   "outputs": [],
   "source": [
    "# 10. Write a Python program to Cloning or Copying a list?"
   ]
  },
  {
   "cell_type": "code",
   "execution_count": 19,
   "id": "2fccb4c0",
   "metadata": {},
   "outputs": [
    {
     "name": "stdout",
     "output_type": "stream",
     "text": [
      "[54, 40, 30, 26, 14, [1, 5, 3, 6, 8], 85, 225, 31, 45, 55, -6, -3, [11, 25, 36, 89, 65, 45]]\n"
     ]
    }
   ],
   "source": [
    "l = [54,40,30,26,14,[1,5,3,6,8],85,225,31,45,55,-6,-3,[11,25,36,89,65,45,]]\n",
    "l1=[]\n",
    "\n",
    "for i in range(0,len(l)):\n",
    "    l1.append(l[i])\n",
    "    \n",
    "print(l1)\n"
   ]
  },
  {
   "cell_type": "code",
   "execution_count": 20,
   "id": "24110030",
   "metadata": {},
   "outputs": [],
   "source": [
    "# 11. Write a Python program to Count occurrences of an element in a list?"
   ]
  },
  {
   "cell_type": "code",
   "execution_count": 21,
   "id": "e7a74045",
   "metadata": {},
   "outputs": [
    {
     "name": "stdout",
     "output_type": "stream",
     "text": [
      "Count of 1 is 2\n"
     ]
    }
   ],
   "source": [
    "l = [1,2,3,2,1]\n",
    "l2=l.count(1)\n",
    "print(\"Count of\",l[0],\"is\",l2)"
   ]
  }
 ],
 "metadata": {
  "kernelspec": {
   "display_name": "Python 3 (ipykernel)",
   "language": "python",
   "name": "python3"
  },
  "language_info": {
   "codemirror_mode": {
    "name": "ipython",
    "version": 3
   },
   "file_extension": ".py",
   "mimetype": "text/x-python",
   "name": "python",
   "nbconvert_exporter": "python",
   "pygments_lexer": "ipython3",
   "version": "3.9.7"
  }
 },
 "nbformat": 4,
 "nbformat_minor": 5
}
