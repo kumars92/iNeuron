{
 "cells": [
  {
   "cell_type": "markdown",
   "id": "d24b976c",
   "metadata": {},
   "source": [
    "# Programming_Assignment 9\n",
    "###### Submitted by : Santosh Kumar"
   ]
  },
  {
   "cell_type": "code",
   "execution_count": null,
   "id": "49fa8b2f",
   "metadata": {},
   "outputs": [],
   "source": [
    "\"\"\"\n",
    "1. Write a Python program to check if the given number is a Disarium Number?\n",
    "2. Write a Python program to print all disarium numbers between 1 to 100?\n",
    "3. Write a Python program to check if the given number is Happy Number?\n",
    "4. Write a Python program to print all happy numbers between 1 and 100?\n",
    "5. Write a Python program to determine whether the given number is a Harshad Number?\n",
    "6. Write a Python program to print all pronic numbers between 1 and 100?\n",
    "\n",
    "\"\"\""
   ]
  },
  {
   "cell_type": "code",
   "execution_count": null,
   "id": "ad27ed8f",
   "metadata": {},
   "outputs": [],
   "source": [
    "# 1. Write a Python program to check if the given number is a Disarium Number?\n",
    "# A disarium number is a number in which the sum of the digits to the power of their respective position is equal to the \n",
    "# number itself (position is counted from left to right starting from 1). \n",
    "# Hence,175 is a disarium number."
   ]
  },
  {
   "cell_type": "code",
   "execution_count": 5,
   "id": "662c5551",
   "metadata": {},
   "outputs": [
    {
     "name": "stdout",
     "output_type": "stream",
     "text": [
      "Enter any number : 135\n",
      "Entered number is Disarium\n"
     ]
    }
   ],
   "source": [
    "s=input(\"Enter any number : \")\n",
    "\n",
    "sum=0\n",
    "for i in range(1,len(s)+1):\n",
    "    s1 = pow(int(s[i-1]),i)\n",
    "    sum+=s1\n",
    "    \n",
    "n=int(s)\n",
    "    \n",
    "if sum==n:\n",
    "    print(\"Entered number is Disarium\")\n",
    "else :\n",
    "    print(\"Entered number is not a Disarium\")\n",
    "    "
   ]
  },
  {
   "cell_type": "code",
   "execution_count": null,
   "id": "7a39eabd",
   "metadata": {},
   "outputs": [],
   "source": [
    "# 2. Write a Python program to print all disarium numbers between 1 to 100?"
   ]
  },
  {
   "cell_type": "code",
   "execution_count": 7,
   "id": "f513d382",
   "metadata": {},
   "outputs": [
    {
     "name": "stdout",
     "output_type": "stream",
     "text": [
      "Enter starting number : 1\n",
      "Enter ending number : 100\n",
      "List of Disarium Numbers are :  [1, 2, 3, 4, 5, 6, 7, 8, 9, 89]\n"
     ]
    }
   ],
   "source": [
    "lst1=[]\n",
    "\n",
    "def disarium_list():\n",
    "    try:\n",
    "        start=int(input(\"Enter starting number : \"))\n",
    "        end=int(input(\"Enter ending number : \"))\n",
    "\n",
    "        if start < 0 or end < 0 :\n",
    "            raise Exception(\"Negative numbers not allowed\")\n",
    "\n",
    "\n",
    "        for i in range(start,end):\n",
    "            s=str(i)\n",
    "            sum=0\n",
    "            for j in range(1,len(s)+1):\n",
    "                s1 = pow(int(s[j-1]),j)\n",
    "                sum+=s1\n",
    "\n",
    "            n=int(s)\n",
    "            if sum==n:\n",
    "                lst1.append(sum)\n",
    "            else: \n",
    "                pass\n",
    "        print(\"List of Disarium Numbers are : \",lst1)\n",
    "        #return disarium_list\n",
    "    except ValueError:\n",
    "        print(\"Strings not allowed\")\n",
    "    except Exception as e:\n",
    "        print(e)\n",
    "    \n",
    "    \n",
    "disarium_list()   "
   ]
  },
  {
   "cell_type": "code",
   "execution_count": 2,
   "id": "bb786d18",
   "metadata": {},
   "outputs": [],
   "source": [
    "# 3. Write a Python program to check if the given number is Happy Number?\n",
    "# In number theory, a happy number is a number which eventually reaches 1 when replaced by the sum of the square of each digit. \n",
    "# For instance, 13 is a happy number "
   ]
  },
  {
   "cell_type": "code",
   "execution_count": 1,
   "id": "2c8f69c8",
   "metadata": {},
   "outputs": [
    {
     "name": "stdout",
     "output_type": "stream",
     "text": [
      "Enter the number :78\n",
      "78  Is a Unhappy Number\n"
     ]
    }
   ],
   "source": [
    "def Happy(num):\n",
    "    sum = 0\n",
    "    while(num>0):\n",
    "        dig = num%10\n",
    "        sum= sum + dig**2        \n",
    "        num = num//10\n",
    "    return sum\n",
    "\n",
    "num = int(input(\"Enter the number :\"))\n",
    "result = num\n",
    "\n",
    "\n",
    "while (result != 1 and result != 4):\n",
    "    result = Happy(result)\n",
    "\n",
    "if result == 1:\n",
    "    print(num,\"Is a Happy Number\")\n",
    "else:\n",
    "    print(num,\" Is a Unhappy Number\")"
   ]
  },
  {
   "cell_type": "code",
   "execution_count": 17,
   "id": "f8323ea7",
   "metadata": {},
   "outputs": [],
   "source": [
    "# 4. Write a Python program to print all happy numbers between 1 and 100?"
   ]
  },
  {
   "cell_type": "code",
   "execution_count": 1,
   "id": "25692ea0",
   "metadata": {},
   "outputs": [
    {
     "name": "stdout",
     "output_type": "stream",
     "text": [
      "Happy numbers in range 1 to 100\n",
      "[1, 7, 10, 13, 19, 23, 28, 31, 32, 44, 49, 68, 70, 79, 82, 86, 91, 94, 97, 100]\n"
     ]
    }
   ],
   "source": [
    "def Happy(num):\n",
    "    sum = 0\n",
    "    while(num>0):\n",
    "        dig = num%10\n",
    "        sum= sum + dig**2        \n",
    "        num = num//10\n",
    "    return sum\n",
    "\n",
    "print(\"Happy numbers in range 1 to 100\")\n",
    "result=num=i=0\n",
    "happyNo = []\n",
    "for i in range(1,101):\n",
    "    result = i\n",
    "    while (result != 1 and result != 4):\n",
    "        result = Happy(result)    \n",
    "    if result == 1:\n",
    "        happyNo.append(i)\n",
    "print(happyNo)"
   ]
  },
  {
   "cell_type": "code",
   "execution_count": 18,
   "id": "3cbdd50c",
   "metadata": {},
   "outputs": [],
   "source": [
    "# 5. Write a Python program to determine whether the given number is a Harshad Number?"
   ]
  },
  {
   "cell_type": "code",
   "execution_count": 19,
   "id": "3b114852",
   "metadata": {},
   "outputs": [],
   "source": [
    "# If a number is divisible by the sum of its digits, then it will be known as a Harshad Number."
   ]
  },
  {
   "cell_type": "code",
   "execution_count": 6,
   "id": "06a270f4",
   "metadata": {},
   "outputs": [
    {
     "name": "stdout",
     "output_type": "stream",
     "text": [
      "Enter number to check :14\n",
      "Not Harshad Number\n"
     ]
    }
   ],
   "source": [
    "def harshad_number():\n",
    "    n=int(input(\"Enter number to check :\"))\n",
    "    s=str(n)\n",
    "    sum=0\n",
    "    for i in range(0,len(s)):\n",
    "        s1=int(s[i])\n",
    "        sum+=s1\n",
    "\n",
    "    if n%sum==0:\n",
    "        print(\"Harshad Number\")\n",
    "    else :\n",
    "        print(\"Not Harshad Number\")\n",
    "    #return harshad_number\n",
    "harshad_number()"
   ]
  },
  {
   "cell_type": "code",
   "execution_count": 41,
   "id": "03652ccd",
   "metadata": {},
   "outputs": [],
   "source": [
    "# 6. Write a Python program to print all pronic numbers between 1 and 100?\n",
    "# The pronic number is a product of two consecutive integers of the form: n(n+1). \n",
    "# Some pronic numbers are: 0, 2, 6, 12, 20, 30, 42, 56 etc."
   ]
  },
  {
   "cell_type": "code",
   "execution_count": 3,
   "id": "02c8aea2",
   "metadata": {},
   "outputs": [
    {
     "name": "stdout",
     "output_type": "stream",
     "text": [
      "Pronic numbers in range 1 to 100\n",
      "[2, 6, 12, 20, 30, 42, 56, 72, 90]\n"
     ]
    }
   ],
   "source": [
    "def PronicNo(num):\n",
    "    Pronic = False\n",
    "    for i in range(1,num+1):\n",
    "        if i*(i+1) == num:\n",
    "            Pronic = True\n",
    "            break\n",
    "    return Pronic\n",
    "\n",
    "print(\"Pronic numbers in range 1 to 100\")\n",
    "pronicno = []\n",
    "for i in range(1,101):\n",
    "    if PronicNo(i):\n",
    "        pronicno.append(i)\n",
    "print(pronicno)"
   ]
  },
  {
   "cell_type": "code",
   "execution_count": null,
   "id": "bf181e22",
   "metadata": {},
   "outputs": [],
   "source": []
  }
 ],
 "metadata": {
  "kernelspec": {
   "display_name": "Python 3 (ipykernel)",
   "language": "python",
   "name": "python3"
  },
  "language_info": {
   "codemirror_mode": {
    "name": "ipython",
    "version": 3
   },
   "file_extension": ".py",
   "mimetype": "text/x-python",
   "name": "python",
   "nbconvert_exporter": "python",
   "pygments_lexer": "ipython3",
   "version": "3.9.7"
  }
 },
 "nbformat": 4,
 "nbformat_minor": 5
}
