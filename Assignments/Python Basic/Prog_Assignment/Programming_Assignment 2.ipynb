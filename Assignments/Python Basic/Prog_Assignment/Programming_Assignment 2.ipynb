{
 "cells": [
  {
   "cell_type": "markdown",
   "id": "bd9317ba",
   "metadata": {},
   "source": [
    "# Programming_Assignment 2\n",
    "###### Submitted by :- Santosh Kumar"
   ]
  },
  {
   "cell_type": "raw",
   "id": "6814c6ae",
   "metadata": {},
   "source": [
    "Questions :-\n",
    "1. Write a Python program to convert kilometers to miles?\n",
    "2. Write a Python program to convert Celsius to Fahrenheit?\n",
    "3. Write a Python program to display calendar?\n",
    "4. Write a Python program to solve quadratic equation?\n",
    "5. Write a Python program to swap two variables without temp variable?"
   ]
  },
  {
   "cell_type": "markdown",
   "id": "ae16d617",
   "metadata": {},
   "source": [
    "### Answer : 1"
   ]
  },
  {
   "cell_type": "code",
   "execution_count": 2,
   "id": "1a4801fc",
   "metadata": {},
   "outputs": [
    {
     "name": "stdout",
     "output_type": "stream",
     "text": [
      "Enter distance in km: 52\n"
     ]
    }
   ],
   "source": [
    "dist_in_km = int(input(\"Enter distance in km: \"))"
   ]
  },
  {
   "cell_type": "code",
   "execution_count": 1,
   "id": "2043e5dd",
   "metadata": {},
   "outputs": [
    {
     "name": "stdout",
     "output_type": "stream",
     "text": [
      "Enter distance in km : -5\n",
      "Negative numbers are not allowed\n",
      "Enter distance in km : sudh\n",
      "String not allowed\n",
      "Enter distance in km : 36\n",
      "Distance in km :  36\n",
      "Distance in Miles : 22.37\n"
     ]
    }
   ],
   "source": [
    "while True:\n",
    "    try:\n",
    "        dist_in_km=int(input(\"Enter distance in km : \"))\n",
    "                \n",
    "        if dist_in_km < 0: \n",
    "            raise Exception(\"Negative numbers are not allowed\")\n",
    "        dist_in_mile = dist_in_km * 0.6213\n",
    "        print(\"Distance in km : \",dist_in_km)\n",
    "        print(\"Distance in Miles :\",format(dist_in_mile,\".2f\"))\n",
    "        break\n",
    "    except ValueError:\n",
    "        print(\"String not allowed\")\n",
    "    except Exception as e:\n",
    "        print(e)"
   ]
  },
  {
   "cell_type": "markdown",
   "id": "cc47beef",
   "metadata": {},
   "source": [
    "### Answer 2"
   ]
  },
  {
   "cell_type": "code",
   "execution_count": 19,
   "id": "5e9e112d",
   "metadata": {},
   "outputs": [
    {
     "name": "stdout",
     "output_type": "stream",
     "text": [
      "Enter temperature in Celcius : -5\n",
      "Negative numbers are not allowed\n",
      "Enter temperature in Celcius : lk\n",
      "String not allowed\n",
      "Enter temperature in Celcius : 36\n",
      "Temperature in Celcius : 36 C\n",
      "Temperature in Fahrenheit :96.8 F\n"
     ]
    }
   ],
   "source": [
    "while True:\n",
    "    try:\n",
    "        c=int(input(\"Enter temperature in Celcius : \"))\n",
    "                \n",
    "        if c < 0: \n",
    "            raise Exception(\"Negative numbers are not allowed\")\n",
    "        f = (c *9/5)+32\n",
    "        print(\"Temperature in Celcius : {}\".format(c),\"C\")\n",
    "        print(\"Temperature in Fahrenheit :{}\".format(f,\".2f\"),\"F\")\n",
    "        break\n",
    "    except ValueError:\n",
    "        print(\"String not allowed\")\n",
    "    except Exception as e:\n",
    "        print(e)"
   ]
  },
  {
   "cell_type": "markdown",
   "id": "3b57b111",
   "metadata": {},
   "source": [
    "### Answer 3"
   ]
  },
  {
   "cell_type": "code",
   "execution_count": 2,
   "id": "e5371a6c",
   "metadata": {},
   "outputs": [
    {
     "name": "stdout",
     "output_type": "stream",
     "text": [
      "Enter Year: -5\n",
      "Negative numbers not allowed\n",
      "Enter Year: sudh\n",
      "Strings not allowed in Year entry!!!\n",
      "Enter Year: 2012\n",
      "                                  2012\n",
      "\n",
      "      January                   February                   March\n",
      "Mo Tu We Th Fr Sa Su      Mo Tu We Th Fr Sa Su      Mo Tu We Th Fr Sa Su\n",
      "                   1             1  2  3  4  5                1  2  3  4\n",
      " 2  3  4  5  6  7  8       6  7  8  9 10 11 12       5  6  7  8  9 10 11\n",
      " 9 10 11 12 13 14 15      13 14 15 16 17 18 19      12 13 14 15 16 17 18\n",
      "16 17 18 19 20 21 22      20 21 22 23 24 25 26      19 20 21 22 23 24 25\n",
      "23 24 25 26 27 28 29      27 28 29                  26 27 28 29 30 31\n",
      "30 31\n",
      "\n",
      "       April                      May                       June\n",
      "Mo Tu We Th Fr Sa Su      Mo Tu We Th Fr Sa Su      Mo Tu We Th Fr Sa Su\n",
      "                   1          1  2  3  4  5  6                   1  2  3\n",
      " 2  3  4  5  6  7  8       7  8  9 10 11 12 13       4  5  6  7  8  9 10\n",
      " 9 10 11 12 13 14 15      14 15 16 17 18 19 20      11 12 13 14 15 16 17\n",
      "16 17 18 19 20 21 22      21 22 23 24 25 26 27      18 19 20 21 22 23 24\n",
      "23 24 25 26 27 28 29      28 29 30 31               25 26 27 28 29 30\n",
      "30\n",
      "\n",
      "        July                     August                  September\n",
      "Mo Tu We Th Fr Sa Su      Mo Tu We Th Fr Sa Su      Mo Tu We Th Fr Sa Su\n",
      "                   1             1  2  3  4  5                      1  2\n",
      " 2  3  4  5  6  7  8       6  7  8  9 10 11 12       3  4  5  6  7  8  9\n",
      " 9 10 11 12 13 14 15      13 14 15 16 17 18 19      10 11 12 13 14 15 16\n",
      "16 17 18 19 20 21 22      20 21 22 23 24 25 26      17 18 19 20 21 22 23\n",
      "23 24 25 26 27 28 29      27 28 29 30 31            24 25 26 27 28 29 30\n",
      "30 31\n",
      "\n",
      "      October                   November                  December\n",
      "Mo Tu We Th Fr Sa Su      Mo Tu We Th Fr Sa Su      Mo Tu We Th Fr Sa Su\n",
      " 1  2  3  4  5  6  7                1  2  3  4                      1  2\n",
      " 8  9 10 11 12 13 14       5  6  7  8  9 10 11       3  4  5  6  7  8  9\n",
      "15 16 17 18 19 20 21      12 13 14 15 16 17 18      10 11 12 13 14 15 16\n",
      "22 23 24 25 26 27 28      19 20 21 22 23 24 25      17 18 19 20 21 22 23\n",
      "29 30 31                  26 27 28 29 30            24 25 26 27 28 29 30\n",
      "                                                    31\n",
      "\n"
     ]
    }
   ],
   "source": [
    "# Program to display calendar of the given month and year\n",
    "\n",
    "import calendar  \n",
    "# importing calendar module\n",
    "\n",
    "while True :\n",
    "    try : \n",
    "        year = int(input(\"Enter Year: \"))  \n",
    "        if year<0 :\n",
    "            raise Exception (\"Negative numbers in Year entry not allowed\")\n",
    "\n",
    "          # display the calendar  \n",
    "        print(calendar.calendar(year))\n",
    "        break\n",
    "    except ValueError:\n",
    "        print(\"Strings not allowed in Year entry!!!\")\n",
    "    except Exception as e :\n",
    "        print(e)\n"
   ]
  },
  {
   "cell_type": "markdown",
   "id": "0897decf",
   "metadata": {},
   "source": [
    "### Answer 4"
   ]
  },
  {
   "cell_type": "code",
   "execution_count": 5,
   "id": "f032b388",
   "metadata": {},
   "outputs": [
    {
     "name": "stdout",
     "output_type": "stream",
     "text": [
      "5.656854249492381\n"
     ]
    }
   ],
   "source": [
    "\"\"\"\n",
    "Quadratic Equation (QE) : ax**2+bx*2+c (where a!=0). If a==0, then QE will be incorrect...\n",
    "\n",
    "The solution of this QE will be : (-b±(b**2-4ac)** 0.5)/(2a)\n",
    "\n",
    "Where b**2-4*a*c is discriminant...\n",
    "\n",
    "Also, There are three use cases in solving QE:-\n",
    "\n",
    "1. If b**2 - 4ac < 0, then roots are complex (not real)\n",
    "2. If b**2 - 4ac > 0, then roots are real and unequal\n",
    "3. If b**2 - 4ac == 0, then roots are real and both roots are equal\n",
    "\n",
    "\"\"\""
   ]
  },
  {
   "cell_type": "code",
   "execution_count": 14,
   "id": "c690e0e4",
   "metadata": {},
   "outputs": [
    {
     "name": "stdout",
     "output_type": "stream",
     "text": [
      "4.0\n"
     ]
    }
   ],
   "source": [
    "import math\n",
    "a=math.sqrt(abs(-16))\n",
    "print(a)"
   ]
  },
  {
   "cell_type": "code",
   "execution_count": 42,
   "id": "2603db1a",
   "metadata": {},
   "outputs": [
    {
     "name": "stdout",
     "output_type": "stream",
     "text": [
      "Enter value of a :7\n",
      "Enter value of b :5\n",
      "Enter value of c :2\n",
      "Roots are Complex\n",
      "-0.36 +j 5.57\n",
      "-0.36 -j 5.57\n"
     ]
    }
   ],
   "source": [
    "import math\n",
    "try:\n",
    "    def roots(a,b,c):\n",
    "        dis = b**2-4*a*c\n",
    "        sqrt_dis=math.sqrt(abs(dis))\n",
    "    \n",
    "        if dis > 0:  \n",
    "            print(\" Roots are real and unequal \")  \n",
    "            print(format((-b + sqrt_dis) / (2 * a),\".2f\"))  \n",
    "            print(format((-b - sqrt_dis) / (2 * a),\".2f\"))\n",
    "        \n",
    "        elif dis == 0 :\n",
    "            print(\"Roots are real and equal\")\n",
    "            print(format((-b + sqrt_dis)/(2*a),\".2f\"))\n",
    "            print(format((-b - sqrt_dis)/(2*a),\".2f\"))\n",
    "        else :\n",
    "            print(\"Roots are Complex\")\n",
    "            print(format((-b /(2*a)),\".2f\"),\"+j\",format((sqrt_dis),\".2f\"))\n",
    "            print(format((-b /(2*a)),\".2f\"),\"-j\",format((sqrt_dis),\".2f\"))\n",
    "            \n",
    "except Exception as e:\n",
    "    print(e)\n",
    "    \n",
    "try :\n",
    "    a=int(input(\"Enter value of a :\"))\n",
    "    b=int(input(\"Enter value of b :\"))\n",
    "    c=int(input(\"Enter value of c :\"))\n",
    "\n",
    "    if a==0:\n",
    "        raise Exception(\"Enter correct values of a, b & c as per QE\")\n",
    "    else :\n",
    "        roots(a,b,c)\n",
    "except Exception as e:\n",
    "    print(e)"
   ]
  },
  {
   "cell_type": "markdown",
   "id": "c164b116",
   "metadata": {},
   "source": [
    "### Answer 5"
   ]
  },
  {
   "cell_type": "code",
   "execution_count": 3,
   "id": "81c05fa1",
   "metadata": {},
   "outputs": [
    {
     "name": "stdout",
     "output_type": "stream",
     "text": [
      "Enter first variable : 14\n",
      "Enter second variable : 25\n",
      "Values of a & b before swap:  a= 14 b= 25\n",
      "Values of a & b after swap : a= 25 b= 14\n"
     ]
    }
   ],
   "source": [
    "var_1 = input(\"Enter first variable : \") # entering variable 1\n",
    "var_2 = input(\"Enter second variable : \") # entering variable 2\n",
    "\n",
    "print(\"Values of a & b before swap: \",\"a=\",var_1 ,\"b=\",var_2) # printing values before swap\n",
    "\n",
    "var_1,var_2=var_2,var_1 # swapping variable 1  and variable 2\n",
    "\n",
    "print(\"Values of a & b after swap :\", \"a=\",var_1 , \"b=\",var_2) # printing values after swap"
   ]
  },
  {
   "cell_type": "code",
   "execution_count": null,
   "id": "23d37388",
   "metadata": {},
   "outputs": [],
   "source": []
  }
 ],
 "metadata": {
  "kernelspec": {
   "display_name": "Python 3 (ipykernel)",
   "language": "python",
   "name": "python3"
  },
  "language_info": {
   "codemirror_mode": {
    "name": "ipython",
    "version": 3
   },
   "file_extension": ".py",
   "mimetype": "text/x-python",
   "name": "python",
   "nbconvert_exporter": "python",
   "pygments_lexer": "ipython3",
   "version": "3.9.7"
  }
 },
 "nbformat": 4,
 "nbformat_minor": 5
}
