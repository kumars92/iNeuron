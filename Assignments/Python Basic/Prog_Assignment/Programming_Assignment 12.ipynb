{
 "cells": [
  {
   "cell_type": "markdown",
   "id": "2405e972",
   "metadata": {},
   "source": [
    "# Programming_Assignment 12\n",
    "###### Submitted by : Santosh Kumar"
   ]
  },
  {
   "cell_type": "raw",
   "id": "cc753089",
   "metadata": {},
   "source": [
    "# Question\n",
    "\"\"\"\n",
    "1. Write a Python program to Extract Unique values dictionary values?\n",
    "2. Write a Python program to find the sum of all items in a dictionary?\n",
    "3. Write a Python program to Merging two Dictionaries?\n",
    "4. Write a Python program to convert key-values list to flat dictionary?\n",
    "5. Write a Python program to insertion at the beginning in OrderedDict?\n",
    "6. Write a Python program to check order of character in string using OrderedDict()?\n",
    "7. Write a Python program to sort Python Dictionaries by Key or Value?\n",
    "\n",
    "\"\"\""
   ]
  },
  {
   "cell_type": "code",
   "execution_count": null,
   "id": "2d771664",
   "metadata": {},
   "outputs": [],
   "source": [
    "# 1. Write a Python program to Extract Unique values dictionary values?"
   ]
  },
  {
   "cell_type": "code",
   "execution_count": 12,
   "id": "99309155",
   "metadata": {},
   "outputs": [
    {
     "name": "stdout",
     "output_type": "stream",
     "text": [
      "All values of Dictionary :  ['santosh', 'kumar', 'santosh', 123, 253, 123]\n",
      "Unique values of lists :  ['santosh', 'kumar', 123, 253]\n"
     ]
    }
   ],
   "source": [
    "d = {'key1':'santosh','key2':'kumar','key3':'santosh','key4':123,'key5':253,'key6':123}\n",
    "\n",
    "d1=list(d.values())\n",
    "print(\"All values of Dictionary : \",d1)\n",
    "\n",
    "l=[]\n",
    "\n",
    "for i in range(0,len(d1)):\n",
    "    if d1[i] not in l :\n",
    "        l.append(d1[i])\n",
    "    \n",
    "print(\"Unique values of lists : \",l)"
   ]
  },
  {
   "cell_type": "code",
   "execution_count": 13,
   "id": "f949276c",
   "metadata": {},
   "outputs": [],
   "source": [
    "# 2. Write a Python program to find the sum of all items in a dictionary?"
   ]
  },
  {
   "cell_type": "code",
   "execution_count": 24,
   "id": "181e9364",
   "metadata": {},
   "outputs": [
    {
     "name": "stdout",
     "output_type": "stream",
     "text": [
      "Sum of all items in a dictionary :  665\n"
     ]
    }
   ],
   "source": [
    "dict = {'a': 50, 'b': 75, 'c': 90,'d':125,'e':150,'f':175}\n",
    "sum=0\n",
    "for i in dict:\n",
    "    sum+=dict[i]\n",
    "print(\"Sum of all items in a dictionary : \",sum)"
   ]
  },
  {
   "cell_type": "code",
   "execution_count": 19,
   "id": "4fdbbf9e",
   "metadata": {},
   "outputs": [],
   "source": [
    "# 3. Write a Python program to Merging two Dictionaries?"
   ]
  },
  {
   "cell_type": "code",
   "execution_count": 29,
   "id": "09084ac3",
   "metadata": {},
   "outputs": [
    {
     "name": "stdout",
     "output_type": "stream",
     "text": [
      "Merged Dictionary :  {'key1': 'value1', 'key2': 'value2', 'key3': 'value3', 'key4': 'value4', 'key5': 'value5'}\n"
     ]
    }
   ],
   "source": [
    "dic1 = {'key1':'value1','key2':'value2','key3':'value3'}\n",
    "dic2 = {'key4':'value4','key5':'value5'}\n",
    "\n",
    "\n",
    "dic1.update(dic2)\n",
    "\n",
    "print(\"Merged Dictionary : \",dic1)"
   ]
  },
  {
   "cell_type": "code",
   "execution_count": null,
   "id": "4d2634d6",
   "metadata": {},
   "outputs": [],
   "source": [
    "# 4. Write a Python program to convert key-values list to flat dictionary?"
   ]
  },
  {
   "cell_type": "code",
   "execution_count": 42,
   "id": "d2d38b3c",
   "metadata": {},
   "outputs": [
    {
     "name": "stdout",
     "output_type": "stream",
     "text": [
      "Dictionary of List :  {'month_num': [1, 2, 3, 4, 5, 6], 'name_of_month': ['Jan', 'Feb', 'March', 'Apr', 'May', 'June']}\n",
      "Flattened List :  {1: 'Jan', 2: 'Feb', 3: 'March', 4: 'Apr', 5: 'May', 6: 'June'}\n"
     ]
    }
   ],
   "source": [
    "my_dict = {'month_num' : [1, 2, 3, 4, 5, 6], 'name_of_month' : ['Jan', 'Feb', 'March', 'Apr', 'May', 'June']}\n",
    "\n",
    "d1 =list(my_dict.values())\n",
    "keys=d1[0]\n",
    "values = d1[1]\n",
    "d={}\n",
    "\n",
    "for i in range(0,len(keys)):\n",
    "    d[keys[i]]=values[i]\n",
    "    \n",
    "print(\"Dictionary of List : \",my_dict)\n",
    "print(\"Flattened List : \",d)\n"
   ]
  },
  {
   "cell_type": "code",
   "execution_count": null,
   "id": "d07eb5c1",
   "metadata": {},
   "outputs": [],
   "source": [
    "# 5. Write a Python program to insertion at the beginning in Ordered Dict?"
   ]
  },
  {
   "cell_type": "code",
   "execution_count": 60,
   "id": "e685dd21",
   "metadata": {},
   "outputs": [
    {
     "name": "stdout",
     "output_type": "stream",
     "text": [
      "Resultant Dictionary :\n",
      "OrderedDict([('key4', 'value4'), ('key1', 'value1'), ('key2', 'value2'), ('key3', 'value3')])\n"
     ]
    }
   ],
   "source": [
    "from collections import OrderedDict\n",
    "dic1 = OrderedDict([('key1', 'value1'), ('key2', 'value2'), ('key3', 'value3')])\n",
    "insrt = OrderedDict([(\"key4\", 'value4')])\n",
    "  \n",
    "final = OrderedDict(list(insrt.items()) + list(dic1.items()))\n",
    "  \n",
    "# print result\n",
    "print (\"Resultant Dictionary :\")\n",
    "print(final)"
   ]
  },
  {
   "cell_type": "code",
   "execution_count": null,
   "id": "9c944790",
   "metadata": {},
   "outputs": [],
   "source": [
    "# 6. Write a Python program to check order of character in string using OrderedDict()?"
   ]
  },
  {
   "cell_type": "code",
   "execution_count": 67,
   "id": "babd23cb",
   "metadata": {},
   "outputs": [
    {
     "name": "stdout",
     "output_type": "stream",
     "text": [
      "The string is \n",
      "Hi Santosh Kumar\n",
      "The input pattern is \n",
      "Sns\n",
      "The order of pattern is correct\n"
     ]
    }
   ],
   "source": [
    "from collections import OrderedDict\n",
    "def check_order(my_input, my_pattern):\n",
    "    my_dict = OrderedDict.fromkeys(my_input)\n",
    "    pattern_length = 0\n",
    "    for key,value in my_dict.items():\n",
    "        if (key == my_pattern[pattern_length]):\n",
    "            pattern_length = pattern_length + 1\n",
    "\n",
    "        if (pattern_length == (len(my_pattern))):\n",
    "            return 'The order of pattern is correct'\n",
    " \n",
    "    return 'The order of pattern is incorrect'\n",
    "\n",
    "my_input = 'Hi Santosh Kumar'\n",
    "input_pattern = 'Sns'\n",
    "print(\"The string is \")\n",
    "print(my_input)\n",
    "print(\"The input pattern is \")\n",
    "print(input_pattern)\n",
    "print(check_order(my_input,input_pattern))"
   ]
  },
  {
   "cell_type": "code",
   "execution_count": null,
   "id": "6c1e4494",
   "metadata": {},
   "outputs": [],
   "source": [
    "# 7. Write a Python program to sort Python Dictionaries by Key or Value?"
   ]
  },
  {
   "cell_type": "code",
   "execution_count": 68,
   "id": "91e2466c",
   "metadata": {},
   "outputs": [
    {
     "name": "stdout",
     "output_type": "stream",
     "text": [
      "Original dictionary:  {1: 11, 2: 5, 3: 10, 4: 6}\n",
      "Sorted dictionary: \n",
      "{2: 5, 4: 6, 3: 10, 1: 11}\n"
     ]
    }
   ],
   "source": [
    "# sorting based on values\n",
    "\n",
    "dic= {1: 11, 2: 5, 3: 10, 4: 6 }\n",
    "\n",
    "print(\"Original dictionary: \",dic)\n",
    "\n",
    "sorted_val = sorted(dic.values())\n",
    "\n",
    "sorted_dic= {}\n",
    "\n",
    "for i in sorted_val:\n",
    "    for k in dic.keys():\n",
    "        if dic[k]==i:\n",
    "            sorted_dic[k] = dic[k]\n",
    "            break\n",
    "\n",
    "print(\"Sorted dictionary: \")\n",
    "print(sorted_dic)"
   ]
  },
  {
   "cell_type": "code",
   "execution_count": 82,
   "id": "4a4a1152",
   "metadata": {},
   "outputs": [],
   "source": [
    "# sorting based on values"
   ]
  },
  {
   "cell_type": "code",
   "execution_count": 83,
   "id": "20be7e04",
   "metadata": {},
   "outputs": [
    {
     "name": "stdout",
     "output_type": "stream",
     "text": [
      "(1, 6) (2, 5) (3, 10) (4, 11) "
     ]
    }
   ],
   "source": [
    "dic= {4: 11, 2: 5, 3: 10, 1: 6 }\n",
    "\n",
    "sorted(dic)\n",
    "for i in sorted(dic):\n",
    "    print((i,dic[i]),end=' ')"
   ]
  },
  {
   "cell_type": "code",
   "execution_count": null,
   "id": "400a812a",
   "metadata": {},
   "outputs": [],
   "source": []
  }
 ],
 "metadata": {
  "kernelspec": {
   "display_name": "Python 3 (ipykernel)",
   "language": "python",
   "name": "python3"
  },
  "language_info": {
   "codemirror_mode": {
    "name": "ipython",
    "version": 3
   },
   "file_extension": ".py",
   "mimetype": "text/x-python",
   "name": "python",
   "nbconvert_exporter": "python",
   "pygments_lexer": "ipython3",
   "version": "3.9.7"
  }
 },
 "nbformat": 4,
 "nbformat_minor": 5
}
