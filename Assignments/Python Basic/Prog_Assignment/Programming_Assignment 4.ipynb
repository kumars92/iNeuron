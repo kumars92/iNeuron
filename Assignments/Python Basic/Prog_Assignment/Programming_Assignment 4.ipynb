{
 "cells": [
  {
   "cell_type": "markdown",
   "id": "66f5ed71",
   "metadata": {},
   "source": [
    "# Programming_Assignment 4\n",
    "#### Submitted by :- Santosh Kumar"
   ]
  },
  {
   "cell_type": "raw",
   "id": "d409e216",
   "metadata": {},
   "source": [
    "Questions :- \n",
    "1. Write a Python Program to Find the Factorial of a Number?\n",
    "2. Write a Python Program to Display the multiplication Table?\n",
    "3. Write a Python Program to Print the Fibonacci sequence?\n",
    "4. Write a Python Program to Check Armstrong Number?\n",
    "5. Write a Python Program to Find Armstrong Number in an Interval?\n",
    "6. Write a Python Program to Find the Sum of Natural Numbers?\n"
   ]
  },
  {
   "cell_type": "code",
   "execution_count": null,
   "id": "6f197f3e",
   "metadata": {},
   "outputs": [],
   "source": [
    "# 1. Write a Python Program to Find the Factorial of a Number?"
   ]
  },
  {
   "cell_type": "code",
   "execution_count": 4,
   "id": "36c496d1",
   "metadata": {},
   "outputs": [
    {
     "name": "stdout",
     "output_type": "stream",
     "text": [
      "Enter number for which you want to Factorial : 8\n",
      "40320\n"
     ]
    }
   ],
   "source": [
    "num=int(input(\"Enter number for which you want to Factorial : \"))\n",
    "fact=1\n",
    "    \n",
    "for i in range(1,num+1):\n",
    "        res=num*(num-1)\n",
    "        fact*=res\n",
    "        num-=2\n",
    "        if num <= 1:\n",
    "            break\n",
    "        \n",
    "print(fact)"
   ]
  },
  {
   "cell_type": "code",
   "execution_count": 18,
   "id": "5d6ddbe7",
   "metadata": {},
   "outputs": [],
   "source": [
    "# 2. Write a Python Program to Display the multiplication Table?"
   ]
  },
  {
   "cell_type": "code",
   "execution_count": 1,
   "id": "fea7367f",
   "metadata": {},
   "outputs": [
    {
     "name": "stdout",
     "output_type": "stream",
     "text": [
      "Enter number for which you want to print table : 12\n",
      "12 X 1 = 12\n",
      "12 X 2 = 24\n",
      "12 X 3 = 36\n",
      "12 X 4 = 48\n",
      "12 X 5 = 60\n",
      "12 X 6 = 72\n",
      "12 X 7 = 84\n",
      "12 X 8 = 96\n",
      "12 X 9 = 108\n",
      "12 X 10 = 120\n"
     ]
    }
   ],
   "source": [
    "\n",
    "num = int(input('Enter number for which you want to print table : '))\n",
    "for i in range (1,11):\n",
    "    num1=num*i\n",
    "    print(\"{}\".format(num),\"X\",\"{}\".format(i),\"=\",\"{}\".format(num1))\n",
    "    num1==0"
   ]
  },
  {
   "cell_type": "code",
   "execution_count": 25,
   "id": "f286656b",
   "metadata": {},
   "outputs": [],
   "source": [
    "# 3. Write a Python Program to Print the Fibonacci sequence?"
   ]
  },
  {
   "cell_type": "code",
   "execution_count": null,
   "id": "bfe4beed",
   "metadata": {},
   "outputs": [],
   "source": [
    "# fn=fn-1+fn-2  --> Current number is sum of previous two numbers"
   ]
  },
  {
   "cell_type": "code",
   "execution_count": 33,
   "id": "7dd90dd3",
   "metadata": {},
   "outputs": [
    {
     "name": "stdout",
     "output_type": "stream",
     "text": [
      "3\n",
      "5\n",
      "8\n",
      "13\n"
     ]
    }
   ],
   "source": [
    "n=5\n",
    "\n",
    "n1=1\n",
    "n2=2\n",
    "\n",
    "for i in range(1,n):\n",
    "    n3=n1+n2\n",
    "    print(n3)\n",
    "    n1,n2=n2,n3"
   ]
  },
  {
   "cell_type": "code",
   "execution_count": 34,
   "id": "60447c5b",
   "metadata": {},
   "outputs": [],
   "source": [
    "# 4. Write a Python Program to Check Armstrong Number?"
   ]
  },
  {
   "cell_type": "raw",
   "id": "69220d33",
   "metadata": {},
   "source": [
    "\"\"\"\n",
    "An Armstrong number of n digits is an integer such that the sum of the cubes of its digits is equal to the number itself.\n",
    "For example, 371 is an Armstrong number since 3**3 + 7**3 + 1**3 = 371.\n",
    "\"\"\""
   ]
  },
  {
   "cell_type": "code",
   "execution_count": 20,
   "id": "7e0ff85e",
   "metadata": {},
   "outputs": [
    {
     "name": "stdout",
     "output_type": "stream",
     "text": [
      "Enter number to check Armstrong Number : 153\n",
      "153 is an Armstrong number\n"
     ]
    }
   ],
   "source": [
    "# take input from the user\n",
    "num = int(input(\"Enter number to check Armstrong Number : \"))\n",
    "\n",
    "# initialize sum\n",
    "sum = 0\n",
    "\n",
    "# find the sum of the cube of each digit\n",
    "temp = num\n",
    "while temp > 0:\n",
    "    digit = temp % 10\n",
    "    sum += digit ** 3\n",
    "    temp //= 10\n",
    "\n",
    "# display the result\n",
    "if num == sum:\n",
    "    print(num,\"is an Armstrong number\")\n",
    "else:\n",
    "    print(num,\"is not an Armstrong number\")"
   ]
  },
  {
   "cell_type": "code",
   "execution_count": null,
   "id": "82875d2e",
   "metadata": {},
   "outputs": [],
   "source": [
    "# 5. Write a Python Program to Find Armstrong Number in an Interval?"
   ]
  },
  {
   "cell_type": "code",
   "execution_count": 1,
   "id": "93158349",
   "metadata": {},
   "outputs": [
    {
     "name": "stdout",
     "output_type": "stream",
     "text": [
      "[1, 64, 125, 153]\n"
     ]
    }
   ],
   "source": [
    "arm_number = []  ### Empty list to store Armstrong Number\n",
    "\n",
    "# find the sum of the cube of each digit\n",
    "for i in range (200):\n",
    "    sum = 0\n",
    "    if i < 200 :\n",
    "        temp = i\n",
    "        while temp > 0:\n",
    "            digit = temp % 10\n",
    "            sum += digit ** 3\n",
    "            temp //= 10\n",
    "            \n",
    "            if sum == i : # Check whether sum = number or not\n",
    "                arm_number.append(i) # append Armstrong number to empty list\n",
    "print(arm_number) # print Armstrong Number"
   ]
  },
  {
   "cell_type": "code",
   "execution_count": 55,
   "id": "fc2a1942",
   "metadata": {},
   "outputs": [],
   "source": [
    "# 6. Write a Python Program to Find the Sum of Natural Numbers?"
   ]
  },
  {
   "cell_type": "code",
   "execution_count": 3,
   "id": "a4b8e13d",
   "metadata": {},
   "outputs": [
    {
     "name": "stdout",
     "output_type": "stream",
     "text": [
      "Enter upto which you want sum : 150\n",
      "11325\n"
     ]
    }
   ],
   "source": [
    "num=int(input(\"Enter upto which you want sum : \"))\n",
    "sum=0\n",
    "while num > 0:    \n",
    "    sum+=num\n",
    "    num-=1\n",
    "print(sum)"
   ]
  }
 ],
 "metadata": {
  "kernelspec": {
   "display_name": "Python 3 (ipykernel)",
   "language": "python",
   "name": "python3"
  },
  "language_info": {
   "codemirror_mode": {
    "name": "ipython",
    "version": 3
   },
   "file_extension": ".py",
   "mimetype": "text/x-python",
   "name": "python",
   "nbconvert_exporter": "python",
   "pygments_lexer": "ipython3",
   "version": "3.9.7"
  }
 },
 "nbformat": 4,
 "nbformat_minor": 5
}
