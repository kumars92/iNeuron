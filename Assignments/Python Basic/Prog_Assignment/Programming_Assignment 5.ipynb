{
 "cells": [
  {
   "cell_type": "markdown",
   "id": "7fdbbaac",
   "metadata": {},
   "source": [
    "# Progrmmming_Assignment 5\n",
    "###### Submitted by :- Santosh Kumar"
   ]
  },
  {
   "cell_type": "raw",
   "id": "23bf8a09",
   "metadata": {},
   "source": [
    "Question : \n",
    "1. Write a Python Program to Find LCM?\n",
    "2. Write a Python Program to Find HCF?\n",
    "3. Write a Python Program to Convert Decimal to Binary, Octal and Hexadecimal?\n",
    "4. Write a Python Program To Find ASCII value of a character?\n",
    "5. Write a Python Program to Make a Simple Calculator with 4 basic mathematical operations?\n"
   ]
  },
  {
   "cell_type": "code",
   "execution_count": null,
   "id": "8da55bd8",
   "metadata": {},
   "outputs": [],
   "source": [
    "# 1. Write a Python Program to Find LCM?"
   ]
  },
  {
   "cell_type": "raw",
   "id": "510fb3bc",
   "metadata": {},
   "source": [
    "\"\"\"\n",
    "LCM (Least common multiple) of two numbers can be finded in this way :-\n",
    "1. Multiples of 3 are 3,6,9,12,15,18,21,24 and so on.\n",
    "2. Multiples of 6 are 6,12,18,24,30,36 and so on.\n",
    "\n",
    "So, the LCM of 3 & 6 is 18. As Least Number that is commom in the multiples of both the numbers...\n",
    "\n",
    "\"\"\""
   ]
  },
  {
   "cell_type": "code",
   "execution_count": 26,
   "id": "d909c3dd",
   "metadata": {},
   "outputs": [
    {
     "name": "stdout",
     "output_type": "stream",
     "text": [
      "Enter first number : 8\n",
      "Enter second number : 3\n",
      "LCM of 8 and 3 is :  24\n"
     ]
    }
   ],
   "source": [
    "try:\n",
    "    number_1 = int(input(\"Enter first number : \"))\n",
    "    number_2 = int(input(\"Enter second number : \"))    \n",
    "\n",
    "    if number_1>number_2:\n",
    "        max=number_1\n",
    "    else :\n",
    "        max=number_2\n",
    "\n",
    "    while(True):\n",
    "        if (max%number_1==0 and max%number_2==0):\n",
    "            print(\"LCM of\",number_1,\"and\",number_2,\"is : \",max)\n",
    "            break\n",
    "        max+=1\n",
    "except Exception as e:\n",
    "    print(e)"
   ]
  },
  {
   "cell_type": "code",
   "execution_count": 27,
   "id": "019dd877",
   "metadata": {},
   "outputs": [],
   "source": [
    "# 2. Write a Python Program to Find HCF?"
   ]
  },
  {
   "cell_type": "raw",
   "id": "9413f886",
   "metadata": {},
   "source": [
    "\"\"\" \n",
    "HCF is Highest Common Factor also known as GCD Greatest Common Divisor.\n",
    "x is called HCF of a & b based on two conditions :\n",
    "\n",
    "1. x can completely divide both a & b leaving remainder 0\n",
    "2. No, other number greater than x can completely divide both a & b\n",
    "\"\"\""
   ]
  },
  {
   "cell_type": "code",
   "execution_count": 40,
   "id": "7e1dc6e3",
   "metadata": {},
   "outputs": [
    {
     "name": "stdout",
     "output_type": "stream",
     "text": [
      "Enter first number : lk\n",
      "invalid literal for int() with base 10: 'lk'\n"
     ]
    }
   ],
   "source": [
    "try:    \n",
    "    number_1 = int(input(\"Enter first number : \"))\n",
    "    if number_1<0:\n",
    "        number_1=-number_1\n",
    "    number_2 = int(input(\"Enter second number : \"))\n",
    "    if number_2<0:\n",
    "        number_2=-number_2\n",
    "        \n",
    "    if number_1 == 0 or number_2 == 0:\n",
    "        hcf=number_1 + number_2\n",
    "    elif number_1 == number_2 :\n",
    "        hcf=number_1        \n",
    "    elif number_1>number_2 :\n",
    "        smaller_num=number_2\n",
    "    else :\n",
    "        smaller_num=number_1\n",
    "        \n",
    "    for i in range(1,smaller_num+1):\n",
    "        if (number_1%i==0 and number_2%i==0):\n",
    "            hcf=i\n",
    "    print(\"H.C.F. of \",number_1,\"and\",number_2,\"is : \",hcf)\n",
    "except Exception as e :\n",
    "    print(e)"
   ]
  },
  {
   "cell_type": "code",
   "execution_count": null,
   "id": "d4c1a3cb",
   "metadata": {},
   "outputs": [],
   "source": [
    "# 3. Write a Python Program to Convert Decimal to Binary, Octal and Hexadecimal?"
   ]
  },
  {
   "cell_type": "code",
   "execution_count": 11,
   "id": "e70d89a7",
   "metadata": {},
   "outputs": [
    {
     "name": "stdout",
     "output_type": "stream",
     "text": [
      "Enter number to convert : 344\n",
      "The Binary Number is : 0b101011000\n",
      "The Ocat Number is : 0o530\n",
      "The Hexadecimal Number is : 0x158\n"
     ]
    }
   ],
   "source": [
    "# Python program to convert decimal into other number systems\n",
    "dec = int(input(\"Enter number to convert : \"))\n",
    "\n",
    "bin_num = bin(dec)\n",
    "oct_num = oct(dec)\n",
    "hex_num = hex(dec)\n",
    "\n",
    "print('The Binary Number is :',bin_num)\n",
    "print('The Ocat Number is :',oct_num)\n",
    "print('The Hexadecimal Number is :',hex_num)"
   ]
  },
  {
   "cell_type": "code",
   "execution_count": 52,
   "id": "b72b2fd3",
   "metadata": {},
   "outputs": [],
   "source": [
    "# 4. Write a Python Program To Find ASCII value of a character?"
   ]
  },
  {
   "cell_type": "code",
   "execution_count": 69,
   "id": "68ebbf3b",
   "metadata": {},
   "outputs": [
    {
     "name": "stdout",
     "output_type": "stream",
     "text": [
      "74\n"
     ]
    }
   ],
   "source": [
    "char = 'J'\n",
    "\n",
    "ascii_value = ord(char)\n",
    "\n",
    "print(ascii_value)"
   ]
  },
  {
   "cell_type": "code",
   "execution_count": 70,
   "id": "9f21ffc6",
   "metadata": {},
   "outputs": [],
   "source": [
    "# 5. Write a Python Program to Make a Simple Calculator with 4 basic mathematical operations?"
   ]
  },
  {
   "cell_type": "code",
   "execution_count": 1,
   "id": "1d7d5131",
   "metadata": {},
   "outputs": [
    {
     "name": "stdout",
     "output_type": "stream",
     "text": [
      "Enter choice : 1\n",
      "Enter number 1 : 10\n",
      "Enter number 2 : 10\n",
      "20\n"
     ]
    }
   ],
   "source": [
    "opr = int(input(\"Enter choice : \"))\n",
    "num1 = int(input(\"Enter number 1 : \"))\n",
    "num2 = int(input(\"Enter number 2 : \"))\n",
    "\n",
    "def add(a,b) :\n",
    "        sum = a+b\n",
    "        print(sum)\n",
    "def sub(a,b) :\n",
    "        if a>b :\n",
    "            subs = a-b\n",
    "        else :\n",
    "            subs = b-a\n",
    "        print (subs)\n",
    "def pro(a,b):\n",
    "        mul = a*b\n",
    "        print (mul)\n",
    "def div(a,b):\n",
    "        if a>b:\n",
    "            divs = a/b\n",
    "        else :\n",
    "            divs = b/a\n",
    "        print(divs)\n",
    "\n",
    "if opr == 1 :\n",
    "    add(num1,num2)    \n",
    "elif opr == 2 :\n",
    "    sub(num1,num2)\n",
    "elif opr == 3 :\n",
    "    pro(num1,num2)    \n",
    "elif opr == 4 :\n",
    "    div(num1,num2)\n",
    "else :\n",
    "    print(\"Please enter valid option number.!!!\")\n",
    "    \n",
    "        \n"
   ]
  }
 ],
 "metadata": {
  "kernelspec": {
   "display_name": "Python 3 (ipykernel)",
   "language": "python",
   "name": "python3"
  },
  "language_info": {
   "codemirror_mode": {
    "name": "ipython",
    "version": 3
   },
   "file_extension": ".py",
   "mimetype": "text/x-python",
   "name": "python",
   "nbconvert_exporter": "python",
   "pygments_lexer": "ipython3",
   "version": "3.9.7"
  }
 },
 "nbformat": 4,
 "nbformat_minor": 5
}
