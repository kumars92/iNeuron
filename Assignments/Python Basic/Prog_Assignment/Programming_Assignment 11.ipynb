{
 "cells": [
  {
   "cell_type": "markdown",
   "id": "98ea099c",
   "metadata": {},
   "source": [
    "# Programming_Assignment 11\n",
    "###### Submitted by : Santosh Kumar"
   ]
  },
  {
   "cell_type": "raw",
   "id": "829ece4c",
   "metadata": {},
   "source": [
    "# Questions\n",
    "\"\"\"\n",
    "1. Write a Python program to find words which are greater than given length k?\n",
    "2. Write a Python program for removing i-th character from a string?\n",
    "3. Write a Python program to split and join a string?\n",
    "4. Write a Python to check if a given string is binary string or not?\n",
    "5. Write a Python program to find uncommon words from two Strings?\n",
    "6. Write a Python to find all duplicate characters in string?\n",
    "7. Write a Python Program to check if a string contains any special character?\n",
    "\"\"\""
   ]
  },
  {
   "cell_type": "code",
   "execution_count": 16,
   "id": "9b42b573",
   "metadata": {},
   "outputs": [],
   "source": [
    "# 1. Write a Python program to find words which are greater than given length k?"
   ]
  },
  {
   "cell_type": "code",
   "execution_count": 7,
   "id": "5653be36",
   "metadata": {},
   "outputs": [
    {
     "name": "stdout",
     "output_type": "stream",
     "text": [
      "Enter length 3\n",
      "name\n",
      "santosh\n",
      "kumar\n"
     ]
    }
   ],
   "source": [
    "s='My name is santosh kumar'\n",
    "l=s.split()\n",
    "\n",
    "n = int(input(\"Enter length \"))\n",
    "for i in range(0,len(l)):\n",
    "    if len(l[i]) > n :\n",
    "        print(l[i])"
   ]
  },
  {
   "cell_type": "code",
   "execution_count": null,
   "id": "af388984",
   "metadata": {},
   "outputs": [],
   "source": [
    "# : 2. Write a Python program for removing i-th character from a string?"
   ]
  },
  {
   "cell_type": "code",
   "execution_count": 10,
   "id": "eb9d44ca",
   "metadata": {},
   "outputs": [
    {
     "name": "stdout",
     "output_type": "stream",
     "text": [
      "y name is santosh kumar\n"
     ]
    }
   ],
   "source": [
    "s='My name is santosh kumar'\n",
    "\n",
    "s1=s.replace(s[0],\"\")\n",
    "print(s1)"
   ]
  },
  {
   "cell_type": "code",
   "execution_count": null,
   "id": "ac968652",
   "metadata": {},
   "outputs": [],
   "source": [
    "# 3. Write a Python program to split and join a string?"
   ]
  },
  {
   "cell_type": "code",
   "execution_count": 27,
   "id": "cf3ac5ee",
   "metadata": {},
   "outputs": [
    {
     "name": "stdout",
     "output_type": "stream",
     "text": [
      "['My', 'name', 'is', 'santosh', 'kumar']\n",
      "My name is santosh kumar\n"
     ]
    }
   ],
   "source": [
    "s='My name is santosh kumar'\n",
    "s1=s.split()\n",
    "print(s1)\n",
    "s2=\" \".join(s1)\n",
    "print(s2)"
   ]
  },
  {
   "cell_type": "code",
   "execution_count": 28,
   "id": "2b940633",
   "metadata": {},
   "outputs": [],
   "source": [
    "# : 4. Write a Python to check if a given string is binary string or not?"
   ]
  },
  {
   "cell_type": "code",
   "execution_count": 36,
   "id": "692a3835",
   "metadata": {},
   "outputs": [
    {
     "name": "stdout",
     "output_type": "stream",
     "text": [
      "Enter String : 2656565\n",
      "Not Binary\n"
     ]
    }
   ],
   "source": [
    "binary = \"01\"\n",
    "s=input(\"Enter String : \")\n",
    "status=0\n",
    "for i in s :\n",
    "    if i not in binary :\n",
    "        status=1\n",
    "        break\n",
    "    else :\n",
    "        pass\n",
    "    \n",
    "if status == 1 :\n",
    "    print(\"Not Binary\")\n",
    "else :\n",
    "    print(\"Binary\")"
   ]
  },
  {
   "cell_type": "code",
   "execution_count": 2,
   "id": "56d736bc",
   "metadata": {},
   "outputs": [],
   "source": [
    "# 5. Write a Python program to find uncommon words from two Strings?"
   ]
  },
  {
   "cell_type": "code",
   "execution_count": 40,
   "id": "d484d8ad",
   "metadata": {},
   "outputs": [
    {
     "name": "stdout",
     "output_type": "stream",
     "text": [
      "Enter String : kumar\n",
      "['k', 'u', 'm', 'r']\n"
     ]
    }
   ],
   "source": [
    "text = \"santosh\"\n",
    "s=input(\"Enter String : \")\n",
    "l=[]\n",
    "\n",
    "for i in s :\n",
    "    if i not in text :\n",
    "        l.append(i)\n",
    "    \n",
    "print(l)\n",
    " "
   ]
  },
  {
   "cell_type": "code",
   "execution_count": 41,
   "id": "b4424fb7",
   "metadata": {},
   "outputs": [],
   "source": [
    "# 6. Write a Python to find all duplicate characters in string?"
   ]
  },
  {
   "cell_type": "code",
   "execution_count": 44,
   "id": "717c5474",
   "metadata": {},
   "outputs": [
    {
     "name": "stdout",
     "output_type": "stream",
     "text": [
      "Enter String : ksmata\n",
      "['s', 'a', 't', 'a']\n"
     ]
    }
   ],
   "source": [
    "binary = \"santosh\"\n",
    "s=input(\"Enter String : \")\n",
    "l=[]\n",
    "\n",
    "for i in s :\n",
    "    if i in binary :\n",
    "        l.append(i)\n",
    "    \n",
    "print(l)"
   ]
  },
  {
   "cell_type": "code",
   "execution_count": 45,
   "id": "d817d475",
   "metadata": {},
   "outputs": [],
   "source": [
    "# 7. Write a Python Program to check if a string contains any special character?"
   ]
  },
  {
   "cell_type": "code",
   "execution_count": 49,
   "id": "2cd4ee09",
   "metadata": {},
   "outputs": [
    {
     "name": "stdout",
     "output_type": "stream",
     "text": [
      "Enter any string : S2@dd$dfdfasff\n",
      "Contains SC\n"
     ]
    }
   ],
   "source": [
    "sc='{[(`~!@#$%^&*_-+=<>,.?/*)]}'\n",
    "count=0\n",
    "s = input(\"Enter any string : \")\n",
    "\n",
    "for i in sc :\n",
    "    if i in s:\n",
    "        count+=1\n",
    "\n",
    "if count > 0 :\n",
    "    print(\"Contains SC\")\n",
    "else :\n",
    "    print(\"Not contains SC\")"
   ]
  }
 ],
 "metadata": {
  "kernelspec": {
   "display_name": "Python 3 (ipykernel)",
   "language": "python",
   "name": "python3"
  },
  "language_info": {
   "codemirror_mode": {
    "name": "ipython",
    "version": 3
   },
   "file_extension": ".py",
   "mimetype": "text/x-python",
   "name": "python",
   "nbconvert_exporter": "python",
   "pygments_lexer": "ipython3",
   "version": "3.9.7"
  }
 },
 "nbformat": 4,
 "nbformat_minor": 5
}
